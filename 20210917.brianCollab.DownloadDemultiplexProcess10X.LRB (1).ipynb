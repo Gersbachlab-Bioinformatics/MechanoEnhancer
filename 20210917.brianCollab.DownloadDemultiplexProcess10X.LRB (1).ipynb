{
 "cells": [
  {
   "cell_type": "markdown",
   "metadata": {},
   "source": [
    "# scRNA-seq screen with force-sensitive enhancer library\n",
    "\n",
    "Collab w/ Brian (BDC), this notebook is for processing the 10X data and performing DE testing using MAST in Seurat. <br>\n",
    "Libraries generated in August 2021:\n",
    "- Dual indexed expr libraries\n",
    "- Single indexed grna libraries\n",
    "- Aimed to recover 15K cells per lane, estimating ~12K singlets"
   ]
  },
  {
   "cell_type": "markdown",
   "metadata": {},
   "source": [
    "### Create directory for logs"
   ]
  },
  {
   "cell_type": "code",
   "execution_count": 1,
   "metadata": {},
   "outputs": [],
   "source": [
    "%%bash\n",
    "mkdir -p /data/gersbachlab/lrb53/brianCollab/logs"
   ]
  },
  {
   "cell_type": "markdown",
   "metadata": {},
   "source": [
    "### Download sequencing data from the Duke seq core\n",
    "\n",
    "There are two sequencing runs:\n",
    "- expression libraries: 7246\n",
    "- grna libraries: 7247\n",
    "<br>\n",
    "<br>\n",
    "Expr libraries = S4 flow cell (28x10x10x90), grna libraries (28x8x0x91) = S1 flow cell"
   ]
  },
  {
   "cell_type": "code",
   "execution_count": 1,
   "metadata": {},
   "outputs": [
    {
     "name": "stdout",
     "output_type": "stream",
     "text": [
      "Submitted batch job 26128696\n"
     ]
    }
   ],
   "source": [
    "%%bash\n",
    "\n",
    "mkdir -p /data/gersbachlab/lrb53/brianCollab/data/expr\n",
    "cd /data/gersbachlab/lrb53/brianCollab/data/expr\n",
    "\n",
    "module load ddsclient\n",
    "\n",
    "sbatch \\\n",
    "    --partition all \\\n",
    "    --mem 32G \\\n",
    "    --cpus-per-task 8 \\\n",
    "    -o /data/gersbachlab/lrb53/brianCollab/logs/download.expr.log \\\n",
    "    <<'EOF'\n",
    "#!/bin/bash\n",
    "\n",
    "ddsclient download -p Bounds_7246 /data/gersbachlab/lrb53/brianCollab/data/expr\n",
    "\n",
    "EOF"
   ]
  },
  {
   "cell_type": "code",
   "execution_count": 2,
   "metadata": {},
   "outputs": [
    {
     "name": "stdout",
     "output_type": "stream",
     "text": [
      "Submitted batch job 26099233\n"
     ]
    }
   ],
   "source": [
    "%%bash\n",
    "\n",
    "mkdir -p /data/gersbachlab/lrb53/brianCollab/data/grna\n",
    "cd /data/gersbachlab/lrb53/brianCollab/data/grna\n",
    "\n",
    "module load ddsclient\n",
    "\n",
    "sbatch \\\n",
    "    --partition all \\\n",
    "    --mem 32G \\\n",
    "    --cpus-per-task 8 \\\n",
    "    -o /data/gersbachlab/lrb53/brianCollab/logs/download.grnas.log \\\n",
    "    <<'EOF'\n",
    "#!/bin/bash\n",
    "\n",
    "ddsclient download -p Bounds_7247 /data/gersbachlab/lrb53/brianCollab/data/grna\n",
    "\n",
    "EOF"
   ]
  },
  {
   "cell_type": "markdown",
   "metadata": {},
   "source": [
    "### Demultiplex sequencing data"
   ]
  },
  {
   "cell_type": "markdown",
   "metadata": {},
   "source": [
    "#### Create directories for each type of library"
   ]
  },
  {
   "cell_type": "code",
   "execution_count": 1,
   "metadata": {},
   "outputs": [],
   "source": [
    "%%bash\n",
    "mkdir -p /data/gersbachlab/lrb53/brianCollab/data/expr/fastq\n",
    "mkdir -p /data/gersbachlab/lrb53/brianCollab/data/grna/fastq"
   ]
  },
  {
   "cell_type": "markdown",
   "metadata": {},
   "source": [
    "#### Expression libraries"
   ]
  },
  {
   "cell_type": "code",
   "execution_count": 11,
   "metadata": {
    "scrolled": true
   },
   "outputs": [
    {
     "name": "stdout",
     "output_type": "stream",
     "text": [
      "Lane,Sample,Index\r\n",
      "1,expr1,SI-TT-A6\r\n",
      "1,expr2,SI-TT-B6\r\n",
      "1,expr3,SI-TT-C6\r\n",
      "1,expr4,SI-TT-D6\r\n",
      "1,expr5,SI-TT-E6\r\n",
      "1,expr6,SI-TT-F6\r\n",
      "1,expr7,SI-TT-G6\r\n",
      "1,expr8,SI-TT-H6\r\n",
      "1,expr9,SI-TT-A7\r\n",
      "1,expr10,SI-TT-B7\r\n",
      "1,expr11,SI-TT-H3\r\n",
      "1,expr12,SI-TT-H5\r\n",
      "2,expr1,SI-TT-A6\r\n",
      "2,expr2,SI-TT-B6\r\n",
      "2,expr3,SI-TT-C6\r\n",
      "2,expr4,SI-TT-D6\r\n",
      "2,expr5,SI-TT-E6\r\n",
      "2,expr6,SI-TT-F6\r\n",
      "2,expr7,SI-TT-G6\r\n",
      "2,expr8,SI-TT-H6\r\n",
      "2,expr9,SI-TT-A7\r\n",
      "2,expr10,SI-TT-B7\r\n",
      "2,expr11,SI-TT-H3\r\n",
      "2,expr12,SI-TT-H5\r\n",
      "3,expr1,SI-TT-A6\r\n",
      "3,expr2,SI-TT-B6\r\n",
      "3,expr3,SI-TT-C6\r\n",
      "3,expr4,SI-TT-D6\r\n",
      "3,expr5,SI-TT-E6\r\n",
      "3,expr6,SI-TT-F6\r\n",
      "3,expr7,SI-TT-G6\r\n",
      "3,expr8,SI-TT-H6\r\n",
      "3,expr9,SI-TT-A7\r\n",
      "3,expr10,SI-TT-B7\r\n",
      "3,expr11,SI-TT-H3\r\n",
      "3,expr12,SI-TT-H5\r\n",
      "4,expr1,SI-TT-A6\r\n",
      "4,expr2,SI-TT-B6\r\n",
      "4,expr3,SI-TT-C6\r\n",
      "4,expr4,SI-TT-D6\r\n",
      "4,expr5,SI-TT-E6\r\n",
      "4,expr6,SI-TT-F6\r\n",
      "4,expr7,SI-TT-G6\r\n",
      "4,expr8,SI-TT-H6\r\n",
      "4,expr9,SI-TT-A7\r\n",
      "4,expr10,SI-TT-B7\r\n",
      "4,expr11,SI-TT-H3\r\n",
      "4,expr12,SI-TT-H5\r\n"
     ]
    }
   ],
   "source": [
    "%%bash\n",
    "cat /data/gersbachlab/lrb53/brianCollab/data/samplesheets/expr.cellrangermkfastq.csv"
   ]
  },
  {
   "cell_type": "code",
   "execution_count": 1,
   "metadata": {},
   "outputs": [
    {
     "name": "stdout",
     "output_type": "stream",
     "text": [
      "Submitted batch job 26179129\n"
     ]
    }
   ],
   "source": [
    "%%bash\n",
    "source activate /data/gersbachlab/lrb53/envs/conda\n",
    "cd /data/gersbachlab/lrb53/brianCollab/data/expr/fastq\n",
    "\n",
    "sbatch \\\n",
    "    --job-name mkfastqExpr \\\n",
    "    --mail-user=lrb53@duke.edu \\\n",
    "    --mail-type=ALL \\\n",
    "    --partition all \\\n",
    "    --mem 32G \\\n",
    "    --cpus-per-task 8 \\\n",
    "    -o /data/gersbachlab/lrb53/brianCollab/logs/mkfastq.expr.log \\\n",
    "    <<'EOF'\n",
    "#!/bin/bash\n",
    "\n",
    "/data/gersbachlab/Software/cellranger-6.0.1/cellranger mkfastq \\\n",
    "    --id=expr \\\n",
    "    --localmem=4 \\\n",
    "    --localcores=8 \\\n",
    "    --run=/data/gersbachlab/lrb53/brianCollab/data/expr/210918_A00257_0692_BHML3KDSX2 \\\n",
    "    --csv=/data/gersbachlab/lrb53/brianCollab/data/samplesheets/expr.cellrangermkfastq.csv \\\n",
    "    --output-dir=/data/gersbachlab/lrb53/brianCollab/data/expr/fastq\n",
    "\n",
    "EOF\n"
   ]
  },
  {
   "cell_type": "markdown",
   "metadata": {},
   "source": [
    "#### sgRNA libraries"
   ]
  },
  {
   "cell_type": "code",
   "execution_count": 2,
   "metadata": {
    "scrolled": true
   },
   "outputs": [
    {
     "name": "stdout",
     "output_type": "stream",
     "text": [
      "[Header],,,\r\n",
      "IEMFileVersion,4,,\r\n",
      "Investigator Name,LRB,,\r\n",
      "Experiment Name,brian_collab_grnas,,\r\n",
      "Date,09/18/21,,\r\n",
      "Workflow,GenerateFASTQ,,\r\n",
      ",,,\r\n",
      "[Reads],,,\r\n",
      "28,,,\r\n",
      "90,,,\r\n",
      ",,,\r\n",
      "[Settings],,,\r\n",
      ",,,\r\n",
      "[Data],,,\r\n",
      "Lane,Sample_ID,Sample_Name,index\r\n",
      "1,grna1,grna1,TAAGGCGA\r\n",
      "1,grna2,grna2,CGTACTAG\r\n",
      "1,grna3,grna3,AGGCAGAA\r\n",
      "1,grna4,grna4,TCCTGAGC\r\n",
      "1,grna5,grna5,GGACTCCT\r\n",
      "1,grna6,grna6,TAGGCATG\r\n",
      "1,grna7,grna7,CTCTCTAC\r\n",
      "1,grna8,grna8,CGAGGCTG\r\n",
      "1,grna9,grna9,AAGAGGCA\r\n",
      "1,grna10,grna10,GTAGAGGA\r\n",
      "1,grna11,grna11,GCTCATGA\r\n",
      "1,grna12,grna12,ATCTCAGG\r\n",
      "2,grna1,grna1,TAAGGCGA\r\n",
      "2,grna2,grna2,CGTACTAG\r\n",
      "2,grna3,grna3,AGGCAGAA\r\n",
      "2,grna4,grna4,TCCTGAGC\r\n",
      "2,grna5,grna5,GGACTCCT\r\n",
      "2,grna6,grna6,TAGGCATG\r\n",
      "2,grna7,grna7,CTCTCTAC\r\n",
      "2,grna8,grna8,CGAGGCTG\r\n",
      "2,grna9,grna9,AAGAGGCA\r\n",
      "2,grna10,grna10,GTAGAGGA\r\n",
      "2,grna11,grna11,GCTCATGA\r\n",
      "2,grna12,grna12,ATCTCAGG\r\n"
     ]
    }
   ],
   "source": [
    "%%bash\n",
    "cat /data/gersbachlab/lrb53/brianCollab/data/samplesheets/grna.bcl2fastq.samplesheet.csv"
   ]
  },
  {
   "cell_type": "code",
   "execution_count": 10,
   "metadata": {},
   "outputs": [
    {
     "name": "stdout",
     "output_type": "stream",
     "text": [
      "Submitted batch job 26099326\n"
     ]
    }
   ],
   "source": [
    "%%bash\n",
    "source activate /data/gersbachlab/lrb53/envs/conda\n",
    "cd /data/gersbachlab/lrb53/brianCollab/data/grna/fastq\n",
    "\n",
    "sbatch \\\n",
    "    --job-name mkfastqGrna \\\n",
    "    --mail-user=lrb53@duke.edu \\\n",
    "    --mail-type=ALL \\\n",
    "    --partition all \\\n",
    "    --mem 32G \\\n",
    "    --cpus-per-task 8 \\\n",
    "    -o /data/gersbachlab/lrb53/brianCollab/logs/mkfastq.grna.log \\\n",
    "    <<'EOF'\n",
    "#!/bin/bash\n",
    "\n",
    "/data/gersbachlab/Software/cellranger-6.0.1/cellranger mkfastq \\\n",
    "    --id=grna \\\n",
    "    --localmem=4 \\\n",
    "    --localcores=8 \\\n",
    "    --run=/data/gersbachlab/lrb53/brianCollab/data/grna/210909_A00257_0685_AHKK53DRXY \\\n",
    "    --csv=/data/gersbachlab/lrb53/brianCollab/data/samplesheets/grna.bcl2fastq.samplesheet.csv \\\n",
    "    --output-dir=/data/gersbachlab/lrb53/brianCollab/data/grna/fastq\n",
    "\n",
    "EOF\n"
   ]
  },
  {
   "cell_type": "markdown",
   "metadata": {},
   "source": [
    "#### Merge fastqs"
   ]
  },
  {
   "cell_type": "code",
   "execution_count": 1,
   "metadata": {},
   "outputs": [],
   "source": [
    "%%bash\n",
    "mkdir -p /data/gersbachlab/lrb53/brianCollab/data/expr/fastq/merged\n",
    "for EXPR in $(seq 1 12);\n",
    "do\n",
    "    for READ_MATE in I1 R1 R2;\n",
    "    do\n",
    "        cat $(find /data/gersbachlab/lrb53/brianCollab/data/expr/fastq/HML3KDSX2 -type f -iname \"*_L00[1234]_${READ_MATE}_001.fastq.gz\" \\\n",
    "              | /bin/grep \"expr${EXPR}_\" | sort) \\\n",
    "        > /data/gersbachlab/lrb53/brianCollab/data/expr/fastq/merged/expr${EXPR}_S${EXPR}_L001_${READ_MATE}_001.fastq.gz; \n",
    "    done\n",
    "done"
   ]
  },
  {
   "cell_type": "code",
   "execution_count": 1,
   "metadata": {},
   "outputs": [],
   "source": [
    "%%bash\n",
    "mkdir -p /data/gersbachlab/lrb53/brianCollab/data/grna/fastq/merged\n",
    "for grna in $(seq 1 12);\n",
    "do\n",
    "    for READ_MATE in I1 R1 R2;\n",
    "    do\n",
    "        cat $(find /data/gersbachlab/lrb53/brianCollab/data/grna/fastq/ -type f -iname \"*_L00[12]_${READ_MATE}_001.fastq.gz\" \\\n",
    "              | /bin/grep \"grna${grna}_\" | sort) \\\n",
    "        > /data/gersbachlab/lrb53/brianCollab/data/grna/fastq/merged/grna${grna}_S${grna}_L001_${READ_MATE}_001.fastq.gz; \n",
    "    done\n",
    "done"
   ]
  },
  {
   "cell_type": "markdown",
   "metadata": {},
   "source": [
    "Delete unmerged files to save space"
   ]
  },
  {
   "cell_type": "code",
   "execution_count": 2,
   "metadata": {},
   "outputs": [],
   "source": [
    "%%bash\n",
    "rm /data/gersbachlab/lrb53/brianCollab/data/expr/fastq/*.gz\n",
    "rm /data/gersbachlab/lrb53/brianCollab/data/expr/fastq/HML3KDSX2/*.gz"
   ]
  },
  {
   "cell_type": "code",
   "execution_count": 2,
   "metadata": {},
   "outputs": [],
   "source": [
    "%%bash\n",
    "rm /data/gersbachlab/lrb53/brianCollab/data/grna/fastq/*.gz"
   ]
  },
  {
   "cell_type": "markdown",
   "metadata": {},
   "source": [
    "### Use cellranger count to generate `expr` count data"
   ]
  },
  {
   "cell_type": "code",
   "execution_count": 3,
   "metadata": {},
   "outputs": [
    {
     "name": "stdout",
     "output_type": "stream",
     "text": [
      "Submitted batch job 26194035\n"
     ]
    }
   ],
   "source": [
    "%%bash\n",
    "mkdir -p /data/gersbachlab/lrb53/brianCollab/data/expr/cellrangercount\n",
    "cd /data/gersbachlab/lrb53/brianCollab/data/expr/cellrangercount\n",
    "\n",
    "sbatch \\\n",
    "    --job-name countexpr \\\n",
    "    --mail-user=lrb53@duke.edu \\\n",
    "    --mail-type=ALL \\\n",
    "    --array=1-12 \\\n",
    "    -p all \\\n",
    "    -o /data/gersbachlab/lrb53/brianCollab/logs/expr.cellranger_counts.%a.out \\\n",
    "    --mem=32G \\\n",
    "    --cpus-per-task=16 \\\n",
    "    <<'EOF'\n",
    "#!/bin/bash\n",
    "POOL=${SLURM_ARRAY_TASK_ID}\n",
    "\n",
    "    \n",
    "/data/gersbachlab/Software/cellranger-6.0.1/cellranger count \\\n",
    "    --id=expr${POOL} \\\n",
    "    --fastqs=/data/gersbachlab/lrb53/brianCollab/data/expr/fastq/merged \\\n",
    "    --transcriptome=/data/gersbachlab/Software/refdata-gex-GRCh38-2020-A \\\n",
    "    --sample=expr${POOL} \\\n",
    "    --expect-cells=15000 \\\n",
    "    --localcores=16 \\\n",
    "    --localmem=32\n",
    "    \n",
    "EOF"
   ]
  },
  {
   "cell_type": "markdown",
   "metadata": {},
   "source": [
    "### Aggregate `expr` data across wells"
   ]
  },
  {
   "cell_type": "code",
   "execution_count": 4,
   "metadata": {},
   "outputs": [
    {
     "name": "stdout",
     "output_type": "stream",
     "text": [
      "Writing /data/gersbachlab/lrb53/brianCollab/data/samplesheets/cellranger_aggr_expect.expr.csv\n"
     ]
    }
   ],
   "source": [
    "%%writefile /data/gersbachlab/lrb53/brianCollab/data/samplesheets/cellranger_aggr_expect.expr.csv\n",
    "sample_id,molecule_h5\n",
    "expr1,/data/gersbachlab/lrb53/brianCollab/data/expr/cellrangercount/expr1/outs/molecule_info.h5\n",
    "expr2,/data/gersbachlab/lrb53/brianCollab/data/expr/cellrangercount/expr2/outs/molecule_info.h5\n",
    "expr3,/data/gersbachlab/lrb53/brianCollab/data/expr/cellrangercount/expr3/outs/molecule_info.h5\n",
    "expr4,/data/gersbachlab/lrb53/brianCollab/data/expr/cellrangercount/expr4/outs/molecule_info.h5\n",
    "expr5,/data/gersbachlab/lrb53/brianCollab/data/expr/cellrangercount/expr5/outs/molecule_info.h5\n",
    "expr6,/data/gersbachlab/lrb53/brianCollab/data/expr/cellrangercount/expr6/outs/molecule_info.h5\n",
    "expr7,/data/gersbachlab/lrb53/brianCollab/data/expr/cellrangercount/expr7/outs/molecule_info.h5\n",
    "expr8,/data/gersbachlab/lrb53/brianCollab/data/expr/cellrangercount/expr8/outs/molecule_info.h5\n",
    "expr9,/data/gersbachlab/lrb53/brianCollab/data/expr/cellrangercount/expr9/outs/molecule_info.h5\n",
    "expr10,/data/gersbachlab/lrb53/brianCollab/data/expr/cellrangercount/expr10/outs/molecule_info.h5\n",
    "expr11,/data/gersbachlab/lrb53/brianCollab/data/expr/cellrangercount/expr11/outs/molecule_info.h5\n",
    "expr12,/data/gersbachlab/lrb53/brianCollab/data/expr/cellrangercount/expr12/outs/molecule_info.h5"
   ]
  },
  {
   "cell_type": "code",
   "execution_count": 5,
   "metadata": {},
   "outputs": [
    {
     "name": "stdout",
     "output_type": "stream",
     "text": [
      "Submitted batch job 26194062\n"
     ]
    }
   ],
   "source": [
    "%%bash\n",
    "cd /data/gersbachlab/lrb53/brianCollab/data/expr/cellrangercount\n",
    "\n",
    "sbatch \\\n",
    "    --depend=afterok:26194035 \\\n",
    "    --job-name=expraggr \\\n",
    "    --mail-user=lrb53@duke.edu \\\n",
    "    --mail-type=ALL \\\n",
    "    -p all \\\n",
    "    -o /data/gersbachlab/brianCollab/logs/cellranger_aggr_expect.out \\\n",
    "    --mem=64G \\\n",
    "    --cpus-per-task=8 \\\n",
    "    <<'EOF'\n",
    "#!/bin/bash\n",
    "\n",
    "/data/gersbachlab/Software/cellranger-6.0.1/cellranger aggr \\\n",
    "    --id=aggr \\\n",
    "    --csv=/data/gersbachlab/lrb53/brianCollab/data/samplesheets/cellranger_aggr_expect.expr.csv \\\n",
    "    --nosecondary \\\n",
    "    --localcores=8 \\\n",
    "    --localmem=64 \\\n",
    "    --normalize=none\n",
    "\n",
    "EOF"
   ]
  },
  {
   "cell_type": "markdown",
   "metadata": {},
   "source": [
    "### Custom gRNA-cell assignment pipeline"
   ]
  },
  {
   "cell_type": "markdown",
   "metadata": {},
   "source": [
    "#### Use cellranger count to generate `grna` count data"
   ]
  },
  {
   "cell_type": "code",
   "execution_count": 3,
   "metadata": {},
   "outputs": [
    {
     "name": "stdout",
     "output_type": "stream",
     "text": [
      "Submitted batch job 26099328\n"
     ]
    }
   ],
   "source": [
    "%%bash\n",
    "mkdir -p /data/gersbachlab/lrb53/brianCollab/data/grna/cellrangercount\n",
    "cd /data/gersbachlab/lrb53/brianCollab/data/grna/cellrangercount\n",
    "\n",
    "sbatch \\\n",
    "    --job-name countGrna \\\n",
    "    --mail-user=lrb53@duke.edu \\\n",
    "    --mail-type=ALL \\\n",
    "    --array=1-12 \\\n",
    "    -p all \\\n",
    "    -o /data/gersbachlab/lrb53/brianCollab/logs/grna.cellranger_counts.%a.out \\\n",
    "    --mem=32G \\\n",
    "    --cpus-per-task=16 \\\n",
    "    <<'EOF'\n",
    "#!/bin/bash\n",
    "POOL=${SLURM_ARRAY_TASK_ID}\n",
    "\n",
    "    \n",
    "/data/gersbachlab/Software/cellranger-6.0.1/cellranger count \\\n",
    "    --id=grna${POOL} \\\n",
    "    --fastqs=/data/gersbachlab/lrb53/brianCollab/data/grna/fastq/merged \\\n",
    "    --transcriptome=/data/gersbachlab/Software/refdata-gex-GRCh38-2020-A \\\n",
    "    --sample=grna${POOL} \\\n",
    "    --expect-cells=15000 \\\n",
    "    --nosecondary \\\n",
    "    --localcores=16 \\\n",
    "    --localmem=32\n",
    "    \n",
    "EOF"
   ]
  },
  {
   "cell_type": "markdown",
   "metadata": {},
   "source": [
    "#### Align grnas to custom bowtie index"
   ]
  },
  {
   "cell_type": "code",
   "execution_count": 4,
   "metadata": {},
   "outputs": [
    {
     "name": "stdout",
     "output_type": "stream",
     "text": [
      "Submitted batch job 26099340\n"
     ]
    }
   ],
   "source": [
    "%%bash\n",
    "module load bowtie2\n",
    "module load samtools\n",
    "\n",
    "sbatch \\\n",
    "    --depend=afterok:26099328 \\\n",
    "    --mail-user=lrb53@duke.edu \\\n",
    "    --mail-type=ALL \\\n",
    "    --job-name=bowtieGrnas \\\n",
    "    -p all \\\n",
    "    --mem 32G \\\n",
    "    --cpus-per-task 8 \\\n",
    "    --array 1-12 \\\n",
    "    --output /data/gersbachlab/lrb53/brianCollab/logs/bowtie2.extract_umi_counts_from_grna_bam.pool_%a.out \\\n",
    "    <<'EOF'\n",
    "#!/bin/bash\n",
    "if [[ ! -e /data/gersbachlab/lrb53/brianCollab/data/grna/cellrangercount/grna${SLURM_ARRAY_TASK_ID}/outs/possorted_genome_bam.fastq.gz ]];\n",
    "then\n",
    "    samtools bam2fq \\\n",
    "        -n \\\n",
    "        -0 /data/gersbachlab/lrb53/brianCollab/data/grna/cellrangercount/grna${SLURM_ARRAY_TASK_ID}/outs/possorted_genome_bam.fastq.gz \\\n",
    "        -f 4 \\\n",
    "        /data/gersbachlab/lrb53/brianCollab/data/grna/cellrangercount/grna${SLURM_ARRAY_TASK_ID}/outs/possorted_genome_bam.bam\n",
    "fi\n",
    "bowtie2 \\\n",
    "    --trim5 23 \\\n",
    "    --trim3 48 \\\n",
    "    --no-unal \\\n",
    "    --end-to-end \\\n",
    "    -D 15 -R 2 -N 1 -L 18 -i S,1,0 \\\n",
    "    --score-min G,0,0 \\\n",
    "    --ignore-quals \\\n",
    "    -x /data/gersbachlab/lrb53/brianCollab/data/bowtieindex/scMigLibSecondary.bt2_ix \\\n",
    "    -U /data/gersbachlab/lrb53/brianCollab/data/grna/cellrangercount/grna${SLURM_ARRAY_TASK_ID}/outs/possorted_genome_bam.fastq.gz \\\n",
    "    --threads 8 \\\n",
    "| samtools view -b \\\n",
    "> /data/gersbachlab/lrb53/brianCollab/data/grna/cellrangercount/grna${SLURM_ARRAY_TASK_ID}/outs/possorted_genome_bam.bt2.bam\n",
    "EOF\n"
   ]
  },
  {
   "cell_type": "markdown",
   "metadata": {},
   "source": [
    "#### Get UMI (`UB`) and cell barcode (`CB`) from aligned fastqs"
   ]
  },
  {
   "cell_type": "code",
   "execution_count": 1,
   "metadata": {},
   "outputs": [
    {
     "name": "stdout",
     "output_type": "stream",
     "text": [
      "Submitted batch job 26099968\n"
     ]
    }
   ],
   "source": [
    "%%bash\n",
    "module load samtools\n",
    "sbatch  \\\n",
    "    --depend=afterok:26099340 \\\n",
    "    --job-name=grnaUB \\\n",
    "    --array=12 \\\n",
    "    -p all \\\n",
    "    -o /data/gersbachlab/lrb53/brianCollab/logs/create_UB_fastq.%a.out \\\n",
    "<<'EOF'\n",
    "#!/bin/bash\n",
    "\n",
    "samtools view -f4 \\\n",
    "/data/gersbachlab/lrb53/brianCollab/data/grna/cellrangercount/grna${SLURM_ARRAY_TASK_ID}/outs/possorted_genome_bam.bam \\\n",
    "| /bin/grep UB: | /bin/grep CB: \\\n",
    "| awk -vOFS='\\n' '{print \"@\"$1, gensub(/.*UB:Z:([CAGT]+).*/, \"\\\\1\", \"g\", $0), \"+\", \"EEEEEEEEEEEE\"}' \\\n",
    "> /data/gersbachlab/lrb53/brianCollab/data/grna/cellrangercount/grna${SLURM_ARRAY_TASK_ID}/outs/possorted_genome_bam.UB.fastq ; \n",
    "EOF\n"
   ]
  },
  {
   "cell_type": "code",
   "execution_count": 2,
   "metadata": {},
   "outputs": [
    {
     "name": "stdout",
     "output_type": "stream",
     "text": [
      "Submitted batch job 26099969\n"
     ]
    }
   ],
   "source": [
    "%%bash\n",
    "module load samtools\n",
    "sbatch \\\n",
    "    --depend=afterok:26099340 \\\n",
    "    --job-name=grnaCB \\\n",
    "    --array=12 \\\n",
    "    -p all \\\n",
    "    -o /data/gersbachlab/lrb53/brianCollab/logs/create_CB_fastq.%a.out \\\n",
    "<<'EOF'\n",
    "#!/bin/bash\n",
    "\n",
    "samtools view -f4 \\\n",
    "/data/gersbachlab/lrb53/brianCollab/data/grna/cellrangercount/grna${SLURM_ARRAY_TASK_ID}/outs/possorted_genome_bam.bam \\\n",
    "| /bin/grep UB: | /bin/grep CB: \\\n",
    "| awk -vOFS='\\n' '{print \"@\"$1, gensub(/.*CB:Z:(.+)\\-1.*/, \"\\\\1\", \"g\", $0), \"+\", \"EEEEEEEEEEEEEEEE\"}' \\\n",
    "> /data/gersbachlab/lrb53/brianCollab/data/grna/cellrangercount/grna${SLURM_ARRAY_TASK_ID}/outs/possorted_genome_bam.CB.fastq ; \n",
    "EOF\n"
   ]
  },
  {
   "cell_type": "markdown",
   "metadata": {},
   "source": [
    "#### Now annotate bam files with `UB` and `CB`"
   ]
  },
  {
   "cell_type": "code",
   "execution_count": 1,
   "metadata": {},
   "outputs": [
    {
     "name": "stdout",
     "output_type": "stream",
     "text": [
      "Submitted batch job 26117475\n"
     ]
    }
   ],
   "source": [
    "%%bash\n",
    "module load java\n",
    "sbatch \\\n",
    "    --job-name=grnaMapBarcodes \\\n",
    "    --array=7 \\\n",
    "    --mem=128G \\\n",
    "    -p all \\\n",
    "    -o /data/gersbachlab/lrb53/brianCollab/logs/merge_bam_with_tags.%a.out \\\n",
    "<<'EOF'\n",
    "#!/bin/bash\n",
    "\n",
    "java -Xmx90g \\\n",
    "    -jar /data/reddylab/software/fgbio/0.8.1/fgbio.jar AnnotateBamWithUmis \\\n",
    "    -i /data/gersbachlab/lrb53/brianCollab/data/grna/cellrangercount/grna${SLURM_ARRAY_TASK_ID}/outs/possorted_genome_bam.bt2.bam \\\n",
    "    -o /data/gersbachlab/lrb53/brianCollab/data/grna/cellrangercount/grna${SLURM_ARRAY_TASK_ID}/outs/possorted_genome_bam.bt2.UB.bam \\\n",
    "    -f /data/gersbachlab/lrb53/brianCollab/data/grna/cellrangercount/grna${SLURM_ARRAY_TASK_ID}/outs/possorted_genome_bam.UB.fastq \\\n",
    "    -t UB\n",
    "java -Xmx90g \\\n",
    "    -jar /data/reddylab/software/fgbio/0.8.1/fgbio.jar AnnotateBamWithUmis \\\n",
    "    -i /data/gersbachlab/lrb53/brianCollab/data/grna/cellrangercount/grna${SLURM_ARRAY_TASK_ID}/outs/possorted_genome_bam.bt2.UB.bam \\\n",
    "    -o /data/gersbachlab/lrb53/brianCollab/data/grna/cellrangercount/grna${SLURM_ARRAY_TASK_ID}/outs/possorted_genome_bam.bt2.with_UB_CB.bam \\\n",
    "    -f /data/gersbachlab/lrb53/brianCollab/data/grna/cellrangercount/grna${SLURM_ARRAY_TASK_ID}/outs/possorted_genome_bam.CB.fastq \\\n",
    "    -t CB\n",
    "\n",
    "EOF\n"
   ]
  },
  {
   "cell_type": "markdown",
   "metadata": {},
   "source": [
    "grna7 is throwing error that sequence and quality lengths are different... reran and completed first annotation fine but ran out of memory for the second annotation, rerunning..."
   ]
  },
  {
   "cell_type": "markdown",
   "metadata": {},
   "source": [
    "#### Finally, count the `grna` UMIs for cells in the `expr` data"
   ]
  },
  {
   "cell_type": "code",
   "execution_count": 1,
   "metadata": {},
   "outputs": [
    {
     "name": "stdout",
     "output_type": "stream",
     "text": [
      "Submitted batch job 26207822\n"
     ]
    }
   ],
   "source": [
    "%%bash\n",
    "source /data/reddylab/software/miniconda3/bin/activate alex_py3\n",
    "module load bzip2\n",
    "\n",
    "cd /data/gersbachlab/lrb53/brianCollab/data/grna/cellrangercount\n",
    "\n",
    "sbatch \\\n",
    "    --job-name=grnaCountUmi \\\n",
    "    --array=1-12 \\\n",
    "    -p all \\\n",
    "    -o /data/gersbachlab/lrb53/brianCollab/logs/grna%a.extract_umi_counts_from_grna_bam.from_annotated_bam.out \\\n",
    "    --mem=32G \\\n",
    "    --cpus-per-task=1 \\\n",
    "    <<'EOF'\n",
    "#!/bin/bash\n",
    "\n",
    "mkdir -p /data/gersbachlab/lrb53/brianCollab/data/grna/cellrangercount/grna${SLURM_ARRAY_TASK_ID}/outs/mm\n",
    "\n",
    "python /data/reddylab/Alex/reddylab_utils/scripts/scRNAseq.extract_umi_counts_from_grna_bam.py \\\n",
    "    --sam /data/gersbachlab/lrb53/brianCollab/data/grna/cellrangercount/grna${SLURM_ARRAY_TASK_ID}/outs/possorted_genome_bam.bt2.with_UB_CB.bam \\\n",
    "    --sam-has-all-tags \\\n",
    "    --protospacers /data/gersbachlab/lrb53/brianCollab/data/grna_info/scMigLib.protospacers.txt \\\n",
    "    --outdir /data/gersbachlab/lrb53/brianCollab/data/grna/cellrangercount/grna${SLURM_ARRAY_TASK_ID}/outs/mm \\\n",
    "    --cell-barcodes /data/gersbachlab/lrb53/brianCollab/data/expr/cellrangercount/expr${SLURM_ARRAY_TASK_ID}/outs/filtered_feature_bc_matrix/barcodes.tsv.gz \\\n",
    "    --cell-barcode-tag CB \\\n",
    "    --umi-tag UB \\\n",
    "    --outname grna${SLURM_ARRAY_TASK_ID} \\\n",
    "    --sam-flag 4 \\\n",
    "    --cell-pool ${SLURM_ARRAY_TASK_ID} \\\n",
    "&& echo \"Done! scRNAseq.extract_umi_counts_from_grna_bam.py for pool${SLURM_ARRAY_TASK_ID} finished successfully.\" \\\n",
    "|| echo \"Fail! scRNAseq.extract_umi_counts_from_grna_bam.py error out for pool${SLURM_ARRAY_TASK_ID}.\"\n",
    "\n",
    "EOF\n",
    "\n"
   ]
  },
  {
   "cell_type": "markdown",
   "metadata": {},
   "source": [
    "#### Make `grna` output files in correct format for Seurat"
   ]
  },
  {
   "cell_type": "code",
   "execution_count": 2,
   "metadata": {},
   "outputs": [
    {
     "name": "stdout",
     "output_type": "stream",
     "text": [
      "Submitted batch job 26207834\n"
     ]
    }
   ],
   "source": [
    "%%bash\n",
    "\n",
    "sbatch \\\n",
    "    --mail-type=ALL \\\n",
    "    --mail-user=lrb53@duke.edu \\\n",
    "    --job-name=grnaMakeMM \\\n",
    "    --depend=afterok:26207822 \\\n",
    "    --array=1-12 \\\n",
    "    -p all \\\n",
    "    -o /data/gersbachlab/lrb53/brianCollab/logs/grna%a.format_mm_files_for_10X.out \\\n",
    "    --mem=2G \\\n",
    "    --cpus-per-task=1 \\\n",
    "    <<'EOF'\n",
    "#!/bin/bash\n",
    "\n",
    "cd /data/gersbachlab/lrb53/brianCollab/data/grna/cellrangercount/grna${SLURM_ARRAY_TASK_ID}/outs/mm\n",
    "gzip -c grna${SLURM_ARRAY_TASK_ID}.barcodes.tsv > barcodes.tsv.gz\n",
    "gzip -c grna${SLURM_ARRAY_TASK_ID}.matrix.tsv > matrix.mtx.gz\n",
    "gzip -c /data/gersbachlab/lrb53/brianCollab/data/grna_info/scMigLib.protospacers.txt > features.tsv.gz\n",
    "\n",
    "EOF\n"
   ]
  },
  {
   "cell_type": "markdown",
   "metadata": {},
   "source": [
    "### Generate Seurat object to get coverage and MOI"
   ]
  },
  {
   "cell_type": "code",
   "execution_count": 4,
   "metadata": {},
   "outputs": [],
   "source": [
    "%%bash\n",
    "mkdir -p /data/gersbachlab/lrb53/brianCollab/scripts\n",
    "mkdir -p /data/gersbachlab/lrb53/brianCollab/data/results"
   ]
  },
  {
   "cell_type": "code",
   "execution_count": 18,
   "metadata": {},
   "outputs": [
    {
     "name": "stdout",
     "output_type": "stream",
     "text": [
      "Overwriting /data/gersbachlab/lrb53/brianCollab/scripts/generateSeuratObject.nofilter.R\n"
     ]
    }
   ],
   "source": [
    "%%writefile /data/gersbachlab/lrb53/brianCollab/scripts/generateSeuratObject.nofilter.R\n",
    "#!/usr/bin/env /data/reddylab/software/miniconda3/envs/alex_py3/bin/Rscript\n",
    "\n",
    "suppressPackageStartupMessages(library(Seurat))\n",
    "suppressPackageStartupMessages(library(GenomicRanges))\n",
    "suppressPackageStartupMessages(library(stringr))\n",
    "suppressPackageStartupMessages(library(SparseData))\n",
    "suppressPackageStartupMessages(library(purrr))\n",
    "\n",
    "sgrna_dirs <- unlist(lapply(c(1:12), function (x){paste0(\"/data/gersbachlab/lrb53/brianCollab/data/grna/cellrangercount/grna\", x, \"/outs/mm\")}))\n",
    "\n",
    "gRNAs.counts<- purrr::reduce(purrr::map(sgrna_dirs, Read10X, gene.column=1), combine)\n",
    "\n",
    "# The combine function would not assign the label \"-1\" to the first batch of barcodes, \n",
    "# here we adjust for that by slapping a \"-1\" to all cell barcodes without a \"-1\"\n",
    "colnames(gRNAs.counts)[1:sum(!grepl(\"-\", colnames(gRNAs.counts)))] <- paste0(colnames(gRNAs.counts)[which(!grepl(\"-\", colnames(gRNAs.counts)))], rep(\"-1\", sum(!grepl(\"-\", colnames(gRNAs.counts)))))\n",
    "\n",
    "original_rownames <- row.names(gRNAs.counts)\n",
    "\n",
    "filter_5tags <- gRNAs.counts>=5\n",
    "\n",
    "gRNAs.counts@x <- gRNAs.counts@x / rep.int(Matrix::colSums(gRNAs.counts), diff(gRNAs.counts@p))\n",
    "\n",
    "gRNAs.counts <- Matrix::drop0((gRNAs.counts>0.005)*filter_5tags)\n",
    "        \n",
    "cells.counts <- Read10X(data.dir=\"/data/gersbachlab/lrb53/brianCollab/data/expr/cellrangercount/aggr/outs/count/filtered_feature_bc_matrix/\")\n",
    "\n",
    "# cells <- CreateSeuratObject(counts=cells.counts$'Gene Expression')\n",
    "cells <- CreateSeuratObject(counts=cells.counts, assay=\"RNA\")\n",
    "cells.counts <- NULL\n",
    "\n",
    "cells <- NormalizeData(object = cells, assay = \"RNA\")\n",
    "\n",
    "# Add gRNAs data\n",
    "cells[[\"gRNAs\"]] <- CreateAssayObject(counts = gRNAs.counts)\n",
    "gRNAs.counts <- NULL\n",
    "\n",
    "\n",
    "# Add MT percentage:\n",
    "cells[[\"percent.mt\"]] <- PercentageFeatureSet(cells, pattern = \"^MT-\")\n",
    "\n",
    "saveRDS(cells, file = \"../seuratobject.nofilter.rds\", compress=FALSE)\n"
   ]
  },
  {
   "cell_type": "code",
   "execution_count": 19,
   "metadata": {},
   "outputs": [
    {
     "name": "stdout",
     "output_type": "stream",
     "text": [
      "Submitted batch job 26207941\n"
     ]
    }
   ],
   "source": [
    "%%bash\n",
    "source /data/reddylab/software/miniconda3/bin/activate alex_py3\n",
    "sbatch \\\n",
    "    --mail-type=END \\\n",
    "    --mail-user=lrb53@duke.edu \\\n",
    "    --job-name=Seuratobject \\\n",
    "    -p all \\\n",
    "    -o /data/gersbachlab/lrb53/brianCollab/logs/generateSeuratObject.nofilter.R \\\n",
    "    --mem 128G \\\n",
    "    --cpus-per-task 2 \\\n",
    "    <<'EOF'\n",
    "#!/bin/bash\n",
    "\n",
    "    Rscript /data/gersbachlab/lrb53/brianCollab/scripts/generateSeuratObject.nofilter.R\n",
    "    \n",
    "EOF"
   ]
  },
  {
   "cell_type": "code",
   "execution_count": 38,
   "metadata": {},
   "outputs": [
    {
     "name": "stdout",
     "output_type": "stream",
     "text": [
      "Overwriting /data/gersbachlab/lrb53/brianCollab/scripts/generateSeuratFeaturePlots.R\n"
     ]
    }
   ],
   "source": [
    "%%writefile /data/gersbachlab/lrb53/brianCollab/scripts/generateSeuratFeaturePlots.R\n",
    "#!/usr/bin/env /data/reddylab/software/miniconda3/envs/alex_py3/bin/Rscript\n",
    "\n",
    "suppressPackageStartupMessages(library(Seurat))\n",
    "suppressPackageStartupMessages(library(GenomicRanges))\n",
    "suppressPackageStartupMessages(library(stringr))\n",
    "suppressPackageStartupMessages(library(SparseData))\n",
    "suppressPackageStartupMessages(library(purrr))\n",
    "\n",
    "sgrna_dirs <- unlist(lapply(c(1:12), function (x){paste0(\"/data/gersbachlab/lrb53/brianCollab/data/grna/cellrangercount/grna\", x, \"/outs/mm\")}))\n",
    "\n",
    "gRNAs.counts<- purrr::reduce(purrr::map(sgrna_dirs, Read10X, gene.column=1), combine)\n",
    "\n",
    "# The combine function would not assign the label \"-1\" to the first batch of barcodes, \n",
    "# here we adjust for that by slapping a \"-1\" to all cell barcodes without a \"-1\"\n",
    "colnames(gRNAs.counts)[1:sum(!grepl(\"-\", colnames(gRNAs.counts)))] <- paste0(colnames(gRNAs.counts)[which(!grepl(\"-\", colnames(gRNAs.counts)))], rep(\"-1\", sum(!grepl(\"-\", colnames(gRNAs.counts)))))\n",
    "\n",
    "original_rownames <- row.names(gRNAs.counts)\n",
    "\n",
    "filter_5tags <- gRNAs.counts>=5\n",
    "\n",
    "gRNAs.counts@x <- gRNAs.counts@x / rep.int(Matrix::colSums(gRNAs.counts), diff(gRNAs.counts@p))\n",
    "\n",
    "gRNAs.counts <- Matrix::drop0((gRNAs.counts>0.005)*filter_5tags)\n",
    "        \n",
    "cells.counts <- Read10X(data.dir=\"/data/gersbachlab/lrb53/brianCollab/data/expr/cellrangercount/aggr/outs/count/filtered_feature_bc_matrix/\")\n",
    "\n",
    "# cells <- CreateSeuratObject(counts=cells.counts$'Gene Expression')\n",
    "cells <- CreateSeuratObject(counts=cells.counts, assay=\"RNA\")\n",
    "cells.counts <- NULL\n",
    "\n",
    "cells <- NormalizeData(object = cells, assay = \"RNA\")\n",
    "\n",
    "# Add gRNAs data\n",
    "cells[[\"gRNAs\"]] <- CreateAssayObject(counts = gRNAs.counts)\n",
    "gRNAs.counts <- NULL\n",
    "\n",
    "\n",
    "# Add MT percentage:\n",
    "cells[[\"percent.mt\"]] <- PercentageFeatureSet(cells, pattern = \"^MT-\")\n",
    "\n",
    "cells\n",
    "\n",
    "# Seurat: plots for nFeature, nCount, perc.mt\n",
    "pdf(\"../brianCollab/SeuratFeaturePlots.nofilter.pdf\")\n",
    "\n",
    "myplot <- VlnPlot(cells, \n",
    "        features = c(\"nFeature_RNA\",\"nCount_RNA\",\"percent.mt\"), \n",
    "        pt.size = 0\n",
    "        )\n",
    "\n",
    "print(myplot)\n",
    "dev.off()\n",
    "\n",
    "# subset cells same as for MAST\n",
    "cells <- subset(cells, subset = nCount_RNA > 10000 & percent.mt < 20)\n",
    "cells\n",
    "\n",
    "# Seurat: plots for nFeature, nCount, perc.mt\n",
    "pdf(\"../brianCollab/SeuratFeaturePlots.withfilter.pdf\")\n",
    "\n",
    "myplot <- VlnPlot(cells, \n",
    "        features = c(\"nFeature_RNA\",\"nCount_RNA\",\"percent.mt\"), \n",
    "        pt.size = 0\n",
    "        )\n",
    "\n",
    "print(myplot)\n",
    "dev.off()"
   ]
  },
  {
   "cell_type": "code",
   "execution_count": 39,
   "metadata": {},
   "outputs": [
    {
     "name": "stdout",
     "output_type": "stream",
     "text": [
      "Submitted batch job 26211039\n"
     ]
    }
   ],
   "source": [
    "%%bash\n",
    "source /data/reddylab/software/miniconda3/bin/activate alex_py3\n",
    "sbatch \\\n",
    "    --mail-type=END \\\n",
    "    --mail-user=lrb53@duke.edu \\\n",
    "    --job-name=SeuratFeaturePlot \\\n",
    "    -p all \\\n",
    "    -o /data/gersbachlab/lrb53/brianCollab/logs/generateFeaturePlots.R \\\n",
    "    --mem 128G \\\n",
    "    --cpus-per-task 2 \\\n",
    "    <<'EOF'\n",
    "#!/bin/bash\n",
    "\n",
    "    Rscript /data/gersbachlab/lrb53/brianCollab/scripts/generateSeuratFeaturePlots.R\n",
    "    \n",
    "EOF"
   ]
  },
  {
   "cell_type": "code",
   "execution_count": 36,
   "metadata": {},
   "outputs": [
    {
     "name": "stdout",
     "output_type": "stream",
     "text": [
      "Overwriting /data/gersbachlab/lrb53/brianCollab/scripts/generateHistograms.withfilter.R\n"
     ]
    }
   ],
   "source": [
    "%%writefile /data/gersbachlab/lrb53/brianCollab/scripts/generateHistograms.withfilter.R\n",
    "#!/usr/bin/env /data/reddylab/software/miniconda3/envs/alex_py3/bin/Rscript\n",
    "\n",
    "suppressPackageStartupMessages(library(Seurat))\n",
    "suppressPackageStartupMessages(library(GenomicRanges))\n",
    "suppressPackageStartupMessages(library(stringr))\n",
    "suppressPackageStartupMessages(library(SparseData))\n",
    "suppressPackageStartupMessages(library(purrr))\n",
    "\n",
    "sgrna_dirs <- unlist(lapply(c(1:12), function (x){paste0(\"/data/gersbachlab/lrb53/brianCollab/data/grna/cellrangercount/grna\", x, \"/outs/mm\")}))\n",
    "\n",
    "gRNAs.counts<- purrr::reduce(purrr::map(sgrna_dirs, Read10X, gene.column=1), combine)\n",
    "\n",
    "# The combine function would not assign the label \"-1\" to the first batch of barcodes, \n",
    "# here we adjust for that by slapping a \"-1\" to all cell barcodes without a \"-1\"\n",
    "colnames(gRNAs.counts)[1:sum(!grepl(\"-\", colnames(gRNAs.counts)))] <- paste0(colnames(gRNAs.counts)[which(!grepl(\"-\", colnames(gRNAs.counts)))], rep(\"-1\", sum(!grepl(\"-\", colnames(gRNAs.counts)))))\n",
    "\n",
    "original_rownames <- row.names(gRNAs.counts)\n",
    "\n",
    "filter_5tags <- gRNAs.counts>=5\n",
    "\n",
    "gRNAs.counts@x <- gRNAs.counts@x / rep.int(Matrix::colSums(gRNAs.counts), diff(gRNAs.counts@p))\n",
    "\n",
    "gRNAs.counts <- Matrix::drop0((gRNAs.counts>0.005)*filter_5tags)\n",
    "        \n",
    "cells.counts <- Read10X(data.dir=\"/data/gersbachlab/lrb53/brianCollab/data/expr/cellrangercount/aggr/outs/count/filtered_feature_bc_matrix/\")\n",
    "\n",
    "# cells <- CreateSeuratObject(counts=cells.counts$'Gene Expression')\n",
    "cells <- CreateSeuratObject(counts=cells.counts, assay=\"RNA\")\n",
    "cells.counts <- NULL\n",
    "\n",
    "cells <- NormalizeData(object = cells, assay = \"RNA\")\n",
    "\n",
    "# Add gRNAs data\n",
    "cells[[\"gRNAs\"]] <- CreateAssayObject(counts = gRNAs.counts)\n",
    "gRNAs.counts <- NULL\n",
    "\n",
    "\n",
    "# Add MT percentage:\n",
    "cells[[\"percent.mt\"]] <- PercentageFeatureSet(cells, pattern = \"^MT-\")\n",
    "\n",
    "# Subset cells for:\n",
    "# <20% MT reads (mostly mitochondrial reads)\n",
    "# remove cells with <10K umis\n",
    "cells <- subset(cells, subset = nCount_RNA > 10000 & percent.mt < 20)\n",
    "\n",
    "suppressPackageStartupMessages(library(tidyverse))\n",
    "\n",
    "# Coverage histogram (cells per sgRNA)\n",
    "pdf(\"../brianCollab/sgRNACoverage.pdf\")\n",
    "\n",
    "df <- data.frame(rowSums(cells[['gRNAs']]))\n",
    "df$grna <- row.names(df)\n",
    "row.names(df) <- NULL\n",
    "colnames(df) <- c(\"cells\",\"grna\")\n",
    "\n",
    "myplot <- df %>% ggplot +\n",
    "  geom_histogram(aes(x = cells), bins = 50) +\n",
    "  geom_vline(xintercept = median(df$cells), color = \"red\") +\n",
    "  geom_vline(xintercept = mean(df$cells), color = \"blue\") +\n",
    "  ggtitle(\"Median (red) and mean (blue) cells per sgRNA (umi cutoff >= 5)\") +\n",
    "  xlab(\"Number of cells\") +\n",
    "  ylab(\"Number of sgRNAs\")\n",
    "\n",
    "print(myplot)\n",
    "dev.off()\n",
    "\n",
    "median(df$cells)\n",
    "mean(df$cells)\n",
    "\n",
    "# MOI histogram (sgRNAs per cell)\n",
    "pdf(\"../brianCollab/sgRNAmoi.pdf\")\n",
    "\n",
    "df <- data.frame(colSums(cells[['gRNAs']]))\n",
    "df$grna <- row.names(df)\n",
    "row.names(df) <- NULL\n",
    "colnames(df) <- c(\"umis\",\"grna\")\n",
    "\n",
    "\n",
    "myplot2 <- df %>% ggplot +\n",
    "  geom_bar(aes(x = umis)) +\n",
    "  geom_vline(xintercept = median(df$umis), color = \"red\") +\n",
    "  geom_vline(xintercept = mean(df$umis), color = \"blue\") +\n",
    "  ggtitle(\"Median (red) and mean (blue) sgRNAs per cell (umi cutoff >= 5)\") +\n",
    "  xlab(\"Number of sgRNAs\") +\n",
    "  ylab(\"Number of cells\")\n",
    "\n",
    "print(myplot2)\n",
    "dev.off()\n",
    "\n",
    "median(df$umis)\n",
    "mean(df$umis)"
   ]
  },
  {
   "cell_type": "code",
   "execution_count": 37,
   "metadata": {},
   "outputs": [
    {
     "name": "stdout",
     "output_type": "stream",
     "text": [
      "Submitted batch job 26210989\n"
     ]
    }
   ],
   "source": [
    "%%bash\n",
    "source /data/reddylab/software/miniconda3/bin/activate alex_py3\n",
    "sbatch \\\n",
    "    --mail-type=END \\\n",
    "    --mail-user=lrb53@duke.edu \\\n",
    "    --job-name=histograms \\\n",
    "    -p all \\\n",
    "    -o /data/gersbachlab/lrb53/brianCollab/logs/generateHistograms.withfilter.R \\\n",
    "    --mem 128G \\\n",
    "    --cpus-per-task 2 \\\n",
    "    <<'EOF'\n",
    "#!/bin/bash\n",
    "\n",
    "    Rscript /data/gersbachlab/lrb53/brianCollab/scripts/generateHistograms.withfilter.R\n",
    "    \n",
    "EOF"
   ]
  },
  {
   "cell_type": "code",
   "execution_count": 12,
   "metadata": {},
   "outputs": [],
   "source": [
    "%%bash\n",
    "rm /data/gersbachlab/lrb53/brianCollab/core*"
   ]
  },
  {
   "cell_type": "markdown",
   "metadata": {},
   "source": [
    "### DE testing using MAST"
   ]
  },
  {
   "cell_type": "code",
   "execution_count": 16,
   "metadata": {},
   "outputs": [
    {
     "name": "stdout",
     "output_type": "stream",
     "text": [
      "Overwriting /data/gersbachlab/lrb53/brianCollab/scripts/grna.de.markers.all.region_of_interest.brianCollab.single_job.R\n"
     ]
    }
   ],
   "source": [
    "%%writefile /data/gersbachlab/lrb53/brianCollab/scripts/grna.de.markers.all.region_of_interest.brianCollab.single_job.R\n",
    "#!/usr/bin/env /data/reddylab/software/miniconda3/envs/alex_py3/bin/Rscript\n",
    "options(future.globals.maxSize = 32000 * 1024^2)\n",
    "suppressPackageStartupMessages(library(argparse))\n",
    "suppressPackageStartupMessages(library(Seurat))\n",
    "suppressPackageStartupMessages(library(GenomicRanges))\n",
    "suppressPackageStartupMessages(library(stringr))\n",
    "suppressPackageStartupMessages(library(SparseData))\n",
    "suppressPackageStartupMessages(library(purrr))\n",
    "parser <- ArgumentParser()\n",
    "\n",
    "# specify our desired options \n",
    "# by default ArgumentParser will add an help option \n",
    "parser$add_argument(\"-j\", \"--job\", help=\"Integer used as index in the list of gRNAs\")\n",
    "parser$add_argument(\"-s\", \"--sgrnas\", nargs='+', \n",
    "                    help=\"List of folders containing sgRNAs data for Read10X function. Each folder should have 3 files: MarketMatrix file (matrix.mtx.gz); Cell barcodes file (barcodes.tsv.gz); sgRNA identifiers file (features.tsv.gz).\")\n",
    "parser$add_argument(\"-t\", \"--transcript-data\", nargs='+', \n",
    "                    help=\"List of folders containing transcriptomic data for Read10X function. Each folder should have 3 files: MarketMatrix file (matrix.mtx.gz); Cell barcodes file (barcodes.tsv.gz); Gene/transcript identifiers file (features.tsv.gz).\")\n",
    "parser$add_argument(\"--de-method\", default=\"MAST\", help=\"Method to define DE genes (test.use argument in Seurat FindMarkers function)\")\n",
    "# parser$add_argument(\"--gene-annotations-file\", help=\"Bed6 file with gene definitions. Do not include headers. Expected columns: c('chrom', 'start', 'end', 'gene_symbol', 'score', 'strand')\")\n",
    "parser$add_argument(\"--output-basename\", help=\"Basename used to create output file (args$output-basename + args$de_method + args$job)\")\n",
    "parser$add_argument(\"--cell-barcodes-whitelist\", help=\"When specified, only restrict analysis to these cell barcodes\", required=F)\n",
    "parser$add_argument(\"--do-not-rename-barcodes\", action=\"store_true\", default=FALSE, \n",
    "                    help=\"Do not rename cell barcodes (see code)\", required=F)\n",
    "parser$add_argument(\"--pseudocount\", help=\"Pseudocount used to compute log2 fold-changes (Default: 1)\", default=1)\n",
    "\n",
    "\n",
    "# get command line options, if help option encountered print help and exit,\n",
    "# otherwise if options not found on command line then set defaults, \n",
    "args <- parser$parse_args()\n",
    "job <- as.integer(args$job)\n",
    "sgrna_dirs <- args$sgrnas\n",
    "\n",
    "gRNAs.counts<- purrr::reduce(purrr::map(sgrna_dirs, Read10X, gene.column=1), combine)\n",
    "        \n",
    "        \n",
    "if (!is.null(args$cell_barcodes_whitelist)){\n",
    "    cell_barcodes_whitelist <- read.table(args$cell_barcodes_whitelist, sep=\"\\t\")$V1\n",
    "    gRNAs.counts <- gRNAs.counts[, colnames(gRNAs.counts) %in% cell_barcodes_whitelist]\n",
    "}\n",
    "\n",
    "        \n",
    "# The combine function would not assign the label \"-1\" to the first batch of barcodes, \n",
    "# here we adjust for that by slapping a \"-1\" to all cell barcodes without a \"-1\"\n",
    "if (!args$do_not_rename_barcodes){\n",
    "    colnames(gRNAs.counts)[1:sum(!grepl(\"-\", colnames(gRNAs.counts)))] <- paste0(colnames(gRNAs.counts)[which(!grepl(\"-\", colnames(gRNAs.counts)))], \n",
    "           rep(\"-1\", sum(!grepl(\"-\", colnames(gRNAs.counts)))))    \n",
    "}\n",
    "\n",
    "# preserve original gRNA names (saved in row names)\n",
    "original_rownames <- row.names(gRNAs.counts)\n",
    "\n",
    "# Create a filter to identify gRNA presence in cells with at least 5 UMIs \n",
    "filter_5tags <- gRNAs.counts>=5\n",
    "\n",
    "# Divide each UMI count by the total number of UMI counts per cell (analogous to library size)\n",
    "gRNAs.counts@x <- gRNAs.counts@x / rep.int(Matrix::colSums(gRNAs.counts), diff(gRNAs.counts@p))\n",
    "\n",
    "# Keep only gRNAs: 1) representing >=0.5% of cell UMI counts, and 2) at least 5 UMI counts per gRNA\n",
    "gRNAs.counts <- Matrix::drop0((gRNAs.counts>0.005)*filter_5tags)\n",
    "\n",
    "# Load 10X transcriptomic reads \n",
    "cells.counts<- purrr::reduce(purrr::map(args$transcript_data, Read10X), combine)\n",
    "\n",
    "if (!is.null(args$cell_barcodes_whitelist)){\n",
    "    cells.counts <- cells.counts[, colnames(cells.counts) %in% cell_barcodes_whitelist]\n",
    "}\n",
    "\n",
    "cells <- CreateSeuratObject(counts=cells.counts, assay=\"RNA\")\n",
    "cells.counts <- NULL\n",
    "\n",
    "cells <- NormalizeData(object = cells, assay = \"RNA\")\n",
    "\n",
    "# Add gRNAs data\n",
    "cells[[\"gRNAs\"]] <- CreateAssayObject(counts = gRNAs.counts)\n",
    "gRNAs.counts <- NULL\n",
    "\n",
    "\n",
    "\n",
    "# genes <- GRanges(read.csv('/data/reddylab/Reference_Data/Gencode/v19/gencode.v19.annotation.genes.bed', \n",
    "#                   sep='\\t', col.names=c('chrom', 'start', 'end', 'gene_symbol', 'score', 'strand')))\n",
    "# genes <- GRanges(genes)\n",
    "\n",
    "# genes <- GRanges(read.csv(args$gene_annotations_file, \n",
    "#                   sep='\\t', col.names=c('chrom', 'start', 'end', 'gene_symbol', 'score', 'strand')))\n",
    "\n",
    "# grna_genes <- genes[queryHits(findOverlaps(genes, \n",
    "#                                            target_region, \n",
    "#                                            ignore.strand=TRUE)), ]$gene_symbol\n",
    "\n",
    "grna_genes <- read.delim(\"/data/gersbachlab/lrb53/brianCollab/data/genes.txt\", header = FALSE)\n",
    "\n",
    "# Add MT percentage and filter cells:\n",
    "#    - with mostly mitochondrial reads (>20%)\n",
    "#    - with less than 10k mRNA UMIs\n",
    "cells[[\"percent.mt\"]] <- PercentageFeatureSet(cells, pattern = \"^MT-\")\n",
    "cells <- subset(cells, subset = nCount_RNA > 10000 & percent.mt < 20)\n",
    "\n",
    "### Run MAST through FindMarkers\n",
    "\n",
    "grna_ix <- as.integer(args$job)\n",
    "cat(grna_ix)\n",
    "\n",
    "# If a sgRNA is present in a cell, assign as '1'. If cell has no sgRNA observed in the experiment, assign 2. \n",
    "# Test between cells with a given sgRNA vs all cells that received at least one sgRNA but not that one\n",
    "\n",
    "Idents(object = cells) <- 0\n",
    "Idents(object = cells, cells = which(as.vector(cells[['gRNAs']][grna_ix,]>0))) <- 1\n",
    "Idents(object = cells, cells = which(as.vector(colSums(cells[['gRNAs']])==0))) <- 2\n",
    "\n",
    "tryCatch({\n",
    "    grna.de.markers <- FindMarkers(\n",
    "                cells, \n",
    "                ident.1=1, \n",
    "                ident.2=0, \n",
    "                test.use= args$de_method, \n",
    "                features= which(row.names(cells[['RNA']]) %in% grna_genes$V1), \n",
    "                assay='RNA', \n",
    "                logfc.threshold=0,\n",
    "                min.pct=0,\n",
    "                min.diff.pct=-Inf,\n",
    "                min.cells.feature=0,\n",
    "                min.cells.group=0,\n",
    "                pseudocount.use=as.numeric(args$pseudocount),\n",
    "                verbose = FALSE)\n",
    "    grna.de.markers['pval_fdr_corrected'] <- p.adjust(grna.de.markers$p_val, \n",
    "                                                      method = 'fdr', \n",
    "                                                      n = length(grna.de.markers$p_val))\n",
    "    grna.de.markers['grna'] <- row.names(cells[['gRNAs']])[grna_ix] \n",
    "\n",
    "    grna.de.markers\n",
    "}, error = function(e) {\n",
    "    NA\n",
    "})\n",
    "\n",
    "foo <- list(grna.de.markers)\n",
    "\n",
    "grna.de.markers.all <- data.table::rbindlist(foo[!is.na(foo)])\n",
    "grna.de.markers.all[,gene_symbol := unlist(lapply(foo[!is.na(foo)], rownames))]\n",
    "head(grna.de.markers.all)\n",
    "\n",
    "write.table(grna.de.markers.all, \n",
    "            paste(args$output_basename, args$de_method, args$job, \"txt\", sep=\".\"), \n",
    "            sep='\\t', quote=F,  row.names=F)\n",
    "            "
   ]
  },
  {
   "cell_type": "code",
   "execution_count": 33,
   "metadata": {},
   "outputs": [],
   "source": [
    "%%bash\n",
    "mkdir -p /data/gersbachlab/lrb53/brianCollab/logs/MAST"
   ]
  },
  {
   "cell_type": "code",
   "execution_count": 34,
   "metadata": {},
   "outputs": [
    {
     "name": "stdout",
     "output_type": "stream",
     "text": [
      "Submitted batch job 26210789\n"
     ]
    }
   ],
   "source": [
    "%%bash\n",
    "DE_METHOD=MAST\n",
    "mkdir -p /data/gersbachlab/lrb53/brianCollab/data/results/${DE_METHOD}\n",
    "source /data/reddylab/software/miniconda3/bin/activate alex_py3\n",
    "\n",
    "sbatch \\\n",
    "    --job-name=brianMAST \\\n",
    "    --mail-type=END \\\n",
    "    --mail-user=lrb53@duke.edu \\\n",
    "    -p all \\\n",
    "    --mem=64G \\\n",
    "    --array=2-1005%100 \\\n",
    "    -o /data/gersbachlab/lrb53/brianCollab/logs/${DE_METHOD}/grna.de.markers.all.region_of_interest.${DE_METHOD}.filter_zeros.%a.out \\\n",
    "    <<'EOF'\n",
    "#!/bin/bash\n",
    "\n",
    "DE_METHOD=MAST\n",
    "\n",
    "if [[ ! -e /data/gersbachlab/lrb53/brianCollab/data/results/${DE_METHOD}/grna.de.markers.MAST.${SLURM_ARRAY_TASK_ID}.txt ]];\n",
    "then\n",
    "    Rscript /data/gersbachlab/lrb53/brianCollab/scripts/grna.de.markers.all.region_of_interest.brianCollab.single_job.R \\\n",
    "        --job ${SLURM_ARRAY_TASK_ID} \\\n",
    "        --sgrnas $(echo /data/gersbachlab/lrb53/brianCollab/data/grna/cellrangercount/grna{1,2,3,4,5,6,7,8,9,10,11,12}/outs/mm) \\\n",
    "        --transcript-data /data/gersbachlab/lrb53/brianCollab/data/expr/cellrangercount/aggr/outs/count/filtered_feature_bc_matrix \\\n",
    "        --de-method ${DE_METHOD} \\\n",
    "        --output-basename \\\n",
    "            /data/gersbachlab/lrb53/brianCollab/data/results/${DE_METHOD}/grna.de.markers\n",
    "else\n",
    "    echo \"${DE_METHOD} run of job${SLURM_ARRAY_TASK_ID} already found!\"\n",
    "fi\n",
    "\n",
    "EOF"
   ]
  },
  {
   "cell_type": "markdown",
   "metadata": {},
   "source": [
    "#### Aggregate MAST results"
   ]
  },
  {
   "cell_type": "code",
   "execution_count": 35,
   "metadata": {},
   "outputs": [
    {
     "name": "stdout",
     "output_type": "stream",
     "text": [
      "Submitted batch job 26210890\n"
     ]
    }
   ],
   "source": [
    "%%bash\n",
    "\n",
    "sbatch \\\n",
    "    --depend=afterok:26210789 \\\n",
    "    --job-name=brianAggrMast \\\n",
    "    --partition all \\\n",
    "    --mem=2G \\\n",
    "    --mail-user=lrb53@duke.edu \\\n",
    "    --mail-type=END \\\n",
    "    << 'EOF'\n",
    "#!/bin/bash\n",
    "   \n",
    "DE_METHOD=MAST\n",
    "\n",
    "cd /data/gersbachlab/lrb53/brianCollab/data/results/${DE_METHOD}\n",
    "mkdir -p aggr\n",
    "head -n1 grna.de.markers.${DE_METHOD}.1.txt \\\n",
    "> aggr/grna.de.markers.${DE_METHOD}.all.txt \\\n",
    "&& cat grna.de.markers.${DE_METHOD}.*.txt \\\n",
    "| awk '$1 !~ /^p_val/' \\\n",
    ">> aggr/grna.de.markers.${DE_METHOD}.all.txt\n",
    "\n",
    "EOF"
   ]
  },
  {
   "cell_type": "markdown",
   "metadata": {},
   "source": [
    "### Update 2021/10/16: run MAST for given window around each DHS"
   ]
  },
  {
   "cell_type": "code",
   "execution_count": 2,
   "metadata": {},
   "outputs": [
    {
     "name": "stdout",
     "output_type": "stream",
     "text": [
      "Submitted batch job 26620241\n"
     ]
    }
   ],
   "source": [
    "%%bash\n",
    "DE_METHOD=MAST\n",
    "mkdir -p /data/gersbachlab/lrb53/brianCollab/data/results20211016/${DE_METHOD}\n",
    "mkdir -p /data/gersbachlab/lrb53/brianCollab/logs/${DE_METHOD}_20211016\n",
    "source /data/reddylab/software/miniconda3/bin/activate alex_py3\n",
    "\n",
    "sbatch \\\n",
    "    --job-name=brianMAST \\\n",
    "    --mail-type=END \\\n",
    "    --mail-user=lrb53@duke.edu \\\n",
    "    -p all \\\n",
    "    --mem=128G \\\n",
    "    -o /data/gersbachlab/lrb53/brianCollab/logs/${DE_METHOD}_20211016/v2.grna.de.markers.all.region_of_interest.${DE_METHOD}_20211016.filter_zeros.fixggname.fixfilename.out \\\n",
    "    <<'EOF'\n",
    "#!/bin/bash\n",
    "\n",
    "    Rscript /data/gersbachlab/lrb53/brianCollab/scripts/brianCollab.DEtest.centeronDhs.FindMarkers.v2.R\n",
    "\n",
    "EOF"
   ]
  },
  {
   "cell_type": "code",
   "execution_count": 2,
   "metadata": {},
   "outputs": [
    {
     "name": "stdout",
     "output_type": "stream",
     "text": [
      "Submitted batch job 26624749\n"
     ]
    }
   ],
   "source": [
    "%%bash\n",
    "DE_METHOD=MAST\n",
    "mkdir -p /data/gersbachlab/lrb53/brianCollab/data/results/${DE_METHOD}_20211023\n",
    "mkdir -p /data/gersbachlab/lrb53/brianCollab/logs/${DE_METHOD}_20211023\n",
    "\n",
    "source /data/reddylab/software/miniconda3/bin/activate alex_py3\n",
    "\n",
    "sbatch \\\n",
    "    --job-name=brianMAST \\\n",
    "    --mail-type=END \\\n",
    "    --mail-user=lrb53@duke.edu \\\n",
    "    -p all \\\n",
    "    --mem=64G \\\n",
    "    --array=1 \\\n",
    "    -o /data/gersbachlab/lrb53/brianCollab/logs/${DE_METHOD}_20211023/grna.de.markers.all.region_of_interest.${DE_METHOD}.filter_zeros.%a.out \\\n",
    "    <<'EOF'\n",
    "#!/bin/bash\n",
    "\n",
    "DE_METHOD=MAST\n",
    "\n",
    "if [[ ! -e /data/gersbachlab/lrb53/brianCollab/data/results/${DE_METHOD}_20211023/grna.de.markers.MAST.${SLURM_ARRAY_TASK_ID}.txt ]];\n",
    "then\n",
    "    Rscript /data/gersbachlab/lrb53/brianCollab/scripts/brianCollab.DEtest.centeronDhs.FindMarkers.v3.R \\\n",
    "        --job ${SLURM_ARRAY_TASK_ID} \\\n",
    "        --de-method ${DE_METHOD} \\\n",
    "        --output-basename \\\n",
    "            /data/gersbachlab/lrb53/brianCollab/data/results/${DE_METHOD}_20211023/grna.de.markers\n",
    "else\n",
    "    echo \"${DE_METHOD} run of job${SLURM_ARRAY_TASK_ID} already found!\"\n",
    "fi\n",
    "\n",
    "EOF"
   ]
  },
  {
   "cell_type": "markdown",
   "metadata": {},
   "source": [
    "#### Test all genes within +/- 2Mb of each targeting sgRNA"
   ]
  },
  {
   "cell_type": "code",
   "execution_count": 1,
   "metadata": {},
   "outputs": [
    {
     "name": "stdout",
     "output_type": "stream",
     "text": [
      "Submitted batch job 26624751\n"
     ]
    }
   ],
   "source": [
    "%%bash\n",
    "DE_METHOD=MAST\n",
    "mkdir -p /data/gersbachlab/lrb53/brianCollab/data/results/${DE_METHOD}_20211023\n",
    "mkdir -p /data/gersbachlab/lrb53/brianCollab/logs/${DE_METHOD}_20211023\n",
    "\n",
    "source /data/reddylab/software/miniconda3/bin/activate alex_py3\n",
    "\n",
    "sbatch \\\n",
    "    --job-name=v4mast \\\n",
    "    --mail-type=END \\\n",
    "    --mail-user=lrb53@duke.edu \\\n",
    "    -p all \\\n",
    "    --mem=64G \\\n",
    "    --array=1-1005%100 \\\n",
    "    -o /data/gersbachlab/lrb53/brianCollab/logs/${DE_METHOD}_20211023/v4.grna.de.markers.all.region_of_interest.${DE_METHOD}.filter_zeros.%a.out \\\n",
    "    <<'EOF'\n",
    "#!/bin/bash\n",
    "\n",
    "DE_METHOD=MAST\n",
    "\n",
    "if [[ ! -e /data/gersbachlab/lrb53/brianCollab/data/results/${DE_METHOD}_20211023/v4.grna.de.markers.MAST.${SLURM_ARRAY_TASK_ID}.txt ]];\n",
    "then\n",
    "    Rscript /data/gersbachlab/lrb53/brianCollab/scripts/brianCollab.DEtest.centeronDhs.FindMarkers.v4.R \\\n",
    "        --job ${SLURM_ARRAY_TASK_ID} \\\n",
    "        --de-method ${DE_METHOD} \\\n",
    "        --output-basename \\\n",
    "            /data/gersbachlab/lrb53/brianCollab/data/results/${DE_METHOD}_20211023/v4.grna.de.markers\n",
    "else\n",
    "    echo \"${DE_METHOD} run of job${SLURM_ARRAY_TASK_ID} already found!\"\n",
    "fi\n",
    "\n",
    "EOF"
   ]
  },
  {
   "cell_type": "code",
   "execution_count": 2,
   "metadata": {},
   "outputs": [
    {
     "name": "stdout",
     "output_type": "stream",
     "text": [
      "Submitted batch job 26625759\n"
     ]
    }
   ],
   "source": [
    "%%bash\n",
    "\n",
    "sbatch \\\n",
    "    --depend=afterany:26624751 \\\n",
    "    --job-name=brianAggrMast \\\n",
    "    --partition all \\\n",
    "    --mem=2G \\\n",
    "    --mail-user=lrb53@duke.edu \\\n",
    "    --mail-type=END \\\n",
    "    << 'EOF'\n",
    "#!/bin/bash\n",
    "   \n",
    "DE_METHOD=MAST\n",
    "\n",
    "cd /data/gersbachlab/lrb53/brianCollab/data/results/${DE_METHOD}_20211023\n",
    "mkdir -p aggr\n",
    "head -n1 v4.grna.de.markers.${DE_METHOD}.1.txt \\\n",
    "> aggr/v4.grna.de.markers.${DE_METHOD}.all.txt \\\n",
    "&& cat v4.grna.de.markers.${DE_METHOD}.*.txt \\\n",
    "| awk '$1 !~ /^p_val/' \\\n",
    ">> aggr/v4.grna.de.markers.${DE_METHOD}.all.txt\n",
    "\n",
    "EOF"
   ]
  },
  {
   "cell_type": "markdown",
   "metadata": {},
   "source": [
    "#### Test all genes within +/- 1Mb of each targeting sgRNA"
   ]
  },
  {
   "cell_type": "code",
   "execution_count": 1,
   "metadata": {},
   "outputs": [
    {
     "name": "stdout",
     "output_type": "stream",
     "text": [
      "Submitted batch job 26685029\n"
     ]
    }
   ],
   "source": [
    "%%bash\n",
    "DE_METHOD=MAST\n",
    "mkdir -p /data/gersbachlab/lrb53/brianCollab/data/results/${DE_METHOD}_20211030\n",
    "mkdir -p /data/gersbachlab/lrb53/brianCollab/logs/${DE_METHOD}_20211030\n",
    "\n",
    "source /data/reddylab/software/miniconda3/bin/activate alex_py3\n",
    "\n",
    "sbatch \\\n",
    "    --job-name=v5mast \\\n",
    "    --mail-type=END \\\n",
    "    --mail-user=lrb53@duke.edu \\\n",
    "    -p all \\\n",
    "    --mem=64G \\\n",
    "    --array=1-1005%50 \\\n",
    "    -o /data/gersbachlab/lrb53/brianCollab/logs/${DE_METHOD}_20211030/v5.grna.de.markers.all.region_of_interest.${DE_METHOD}.filter_zeros.%a.out \\\n",
    "    <<'EOF'\n",
    "#!/bin/bash\n",
    "\n",
    "DE_METHOD=MAST\n",
    "\n",
    "if [[ ! -e /data/gersbachlab/lrb53/brianCollab/data/results/${DE_METHOD}_20211030/v5.grna.de.markers.MAST.${SLURM_ARRAY_TASK_ID}.txt ]];\n",
    "then\n",
    "    Rscript /data/gersbachlab/lrb53/brianCollab/scripts/brianCollab.DEtest.centeronDhs.FindMarkers.v5.R \\\n",
    "        --job ${SLURM_ARRAY_TASK_ID} \\\n",
    "        --de-method ${DE_METHOD} \\\n",
    "        --output-basename \\\n",
    "            /data/gersbachlab/lrb53/brianCollab/data/results/${DE_METHOD}_20211030/v5.grna.de.markers\n",
    "else\n",
    "    echo \"${DE_METHOD} run of job${SLURM_ARRAY_TASK_ID} already found!\"\n",
    "fi\n",
    "\n",
    "EOF"
   ]
  },
  {
   "cell_type": "code",
   "execution_count": 2,
   "metadata": {},
   "outputs": [
    {
     "name": "stdout",
     "output_type": "stream",
     "text": [
      "Submitted batch job 26685080\n"
     ]
    }
   ],
   "source": [
    "%%bash\n",
    "\n",
    "sbatch \\\n",
    "    --depend=afterany:26685029 \\\n",
    "    --job-name=brianAggrMast \\\n",
    "    --partition all \\\n",
    "    --mem=2G \\\n",
    "    --mail-user=lrb53@duke.edu \\\n",
    "    --mail-type=END \\\n",
    "    << 'EOF'\n",
    "#!/bin/bash\n",
    "   \n",
    "DE_METHOD=MAST\n",
    "\n",
    "cd /data/gersbachlab/lrb53/brianCollab/data/results/${DE_METHOD}_20211030\n",
    "mkdir -p aggr\n",
    "head -n1 v5.grna.de.markers.${DE_METHOD}.1.txt \\\n",
    "> aggr/v5.grna.de.markers.${DE_METHOD}.all.txt \\\n",
    "&& cat v5.grna.de.markers.${DE_METHOD}.*.txt \\\n",
    "| awk '$1 !~ /^p_val/' \\\n",
    ">> aggr/v5.grna.de.markers.${DE_METHOD}.all.txt\n",
    "\n",
    "EOF"
   ]
  },
  {
   "cell_type": "code",
   "execution_count": null,
   "metadata": {},
   "outputs": [],
   "source": []
  }
 ],
 "metadata": {
  "kernelspec": {
   "display_name": "Python 3",
   "language": "python",
   "name": "python3"
  },
  "language_info": {
   "codemirror_mode": {
    "name": "ipython",
    "version": 3
   },
   "file_extension": ".py",
   "mimetype": "text/x-python",
   "name": "python",
   "nbconvert_exporter": "python",
   "pygments_lexer": "ipython3",
   "version": "3.6.7"
  }
 },
 "nbformat": 4,
 "nbformat_minor": 5
}
