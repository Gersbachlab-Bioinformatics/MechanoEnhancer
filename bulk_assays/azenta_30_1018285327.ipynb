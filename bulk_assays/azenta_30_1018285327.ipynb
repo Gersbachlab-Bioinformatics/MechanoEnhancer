{
 "cells": [
  {
   "cell_type": "markdown",
   "metadata": {},
   "source": [
    "# azenta_30_1018285327 - rna_seq\n",
    "This notebook will create all the necessary files, scripts and folders to pre-process the aforementioned project. Is designed to be used in a jupyter server deployed in a system running SLURM. The majority of the scripts and heavy-lifting processes are wrapped up in sbatch scripts.As an end user, in order to pre-process your samples provided in the spread sheet, you will simply need to *run the entire notebook* (Cell > Run all) and the system should take care of the rest for you.\n",
    "#### Create necessary folder(s)"
   ]
  },
  {
   "cell_type": "code",
   "execution_count": 5,
   "metadata": {},
   "outputs": [],
   "source": [
    "%%bash\n",
    "mkdir -p /data/reddylab/Alex/collab/20240529_Crawford/data/rna_seq/metadata\n",
    "mkdir -p /data/reddylab/Alex/collab/20240529_Crawford/data/rna_seq/raw_reads\n",
    "mkdir -p /data/reddylab/Alex/collab/20240529_Crawford/data/rna_seq/processed_raw_reads\n",
    "mkdir -p /data/reddylab/Alex/collab/20240529_Crawford/processing/rna_seq/scripts\n",
    "mkdir -p /data/reddylab/Alex/collab/20240529_Crawford/processing/rna_seq/jsons\n",
    "mkdir -p /data/reddylab/Alex/collab/20240529_Crawford/processing/rna_seq/logs"
   ]
  },
  {
   "cell_type": "markdown",
   "metadata": {},
   "source": [
    "Save metadata file"
   ]
  },
  {
   "cell_type": "code",
   "execution_count": 6,
   "metadata": {},
   "outputs": [
    {
     "name": "stdout",
     "output_type": "stream",
     "text": [
      "Overwriting /data/reddylab/Alex/collab/20240529_Crawford/data/rna_seq/metadata/rna_seq_download_metadata.azenta_30_1018285327.txt\n"
     ]
    }
   ],
   "source": [
    "%%writefile /data/reddylab/Alex/collab/20240529_Crawford/data/rna_seq/metadata/rna_seq_download_metadata.azenta_30_1018285327.txt\n",
    "Sequencing core user\tSequencing core project\tSequencing core password\tSequencing core library name\tName\tPaired-end or single-end\tGenome\tLibrary type\tStrand specificity\tWith ercc spike-in\n",
    "alexias_safi_duke\t30-1018285327\tDTwykexD5cDYvpOJ7zxS\tA549-1Kpa-B1\tA549.rnaseq.1kPa.rep1\tPE\thg38\tRNA-seq\tunstranded\tFalse\n",
    "alexias_safi_duke\t30-1018285327\tDTwykexD5cDYvpOJ7zxS\tA549-1Kpa-B2\tA549.rnaseq.1kPa.rep2\tPE\thg38\tRNA-seq\tunstranded\tFalse\n",
    "alexias_safi_duke\t30-1018285327\tDTwykexD5cDYvpOJ7zxS\tA549-1Kpa-B3\tA549.rnaseq.1kPa.rep3\tPE\thg38\tRNA-seq\tunstranded\tFalse\n",
    "alexias_safi_duke\t30-1018285327\tDTwykexD5cDYvpOJ7zxS\tA549-50Kpa-B1\tA549.rnaseq.50kPa.rep1\tPE\thg38\tRNA-seq\tunstranded\tFalse\n",
    "alexias_safi_duke\t30-1018285327\tDTwykexD5cDYvpOJ7zxS\tA549-50Kpa-B2\tA549.rnaseq.50kPa.rep2\tPE\thg38\tRNA-seq\tunstranded\tFalse\n",
    "alexias_safi_duke\t30-1018285327\tDTwykexD5cDYvpOJ7zxS\tA549-50Kpa-B3\tA549.rnaseq.50kPa.rep3\tPE\thg38\tRNA-seq\tunstranded\tFalse\n",
    "alexias_safi_duke\t30-1018285327\tDTwykexD5cDYvpOJ7zxS\tA549-TCP-B1\tA549.rnaseq.TCP.rep1\tPE\thg38\tRNA-seq\tunstranded\tFalse\n",
    "alexias_safi_duke\t30-1018285327\tDTwykexD5cDYvpOJ7zxS\tA549-TCP-B2\tA549.rnaseq.TCP.rep2\tPE\thg38\tRNA-seq\tunstranded\tFalse\n",
    "alexias_safi_duke\t30-1018285327\tDTwykexD5cDYvpOJ7zxS\tA549-TCP-B3\tA549.rnaseq.TCP.rep3\tPE\thg38\tRNA-seq\tunstranded\tFalse\n"
   ]
  },
  {
   "cell_type": "markdown",
   "metadata": {},
   "source": [
    "#### Download FASTQ from sftp\n",
    "Create file to download FASTQ files"
   ]
  },
  {
   "cell_type": "code",
   "execution_count": 9,
   "metadata": {},
   "outputs": [
    {
     "name": "stdout",
     "output_type": "stream",
     "text": [
      "Overwriting /data/reddylab/Alex/collab/20240529_Crawford/processing/rna_seq/scripts/download_azenta_30_1018285327.sh\n"
     ]
    }
   ],
   "source": [
    "%%writefile /data/reddylab/Alex/collab/20240529_Crawford/processing/rna_seq/scripts/download_azenta_30_1018285327.sh\n",
    "#!/bin/bash\n",
    "METADATA=/data/reddylab/Alex/collab/20240529_Crawford/data/rna_seq/metadata/rna_seq_download_metadata.azenta_30_1018285327.txt\n",
    "DATA_HOME=/data/reddylab/Alex/collab/20240529_Crawford/data/rna_seq\n",
    "mkdir -p ${DATA_HOME}/raw_reads/\n",
    "\n",
    "read CORE_USER CORE_PROJECT CORE_PASS <<< $(cut -f 1,2,3 $METADATA | tail -n+2 | sort -u)\n",
    "cd ${DATA_HOME}/raw_reads/\n",
    "lftp -u ${CORE_USER},${CORE_PASS} -e \"mirror --parallel=16 --only-missing ${CORE_PROJECT}; exit\" \"sftp://${CORE_USER}@sftp.genewiz.com\"\n",
    "exit\n"
   ]
  },
  {
   "cell_type": "markdown",
   "metadata": {},
   "source": [
    "Execute file to download files"
   ]
  },
  {
   "cell_type": "code",
   "execution_count": 21,
   "metadata": {},
   "outputs": [],
   "source": [
    "%%script --out blocking_job_str bash\n",
    "sbatch -o /data/reddylab/Alex/collab/20240529_Crawford/processing/rna_seq/logs/azenta_30_1018285327_download_fastq_files.out \\\n",
    " -p all \\\n",
    " --wrap=\"ssh aeb84@Hardac-xfer.genome.duke.edu 'sh /data/reddylab/Alex/collab/20240529_Crawford/processing/rna_seq/scripts/download_azenta_30_1018285327.sh' \""
   ]
  },
  {
   "cell_type": "markdown",
   "metadata": {},
   "source": [
    "Extract blocking job id"
   ]
  },
  {
   "cell_type": "code",
   "execution_count": 22,
   "metadata": {},
   "outputs": [],
   "source": [
    "import re\n",
    "blocking_job = re.match('Submitted batch job (\\d+).*', blocking_job_str).group(1)"
   ]
  },
  {
   "cell_type": "markdown",
   "metadata": {},
   "source": [
    "#### Merge lanes of FASTQ files"
   ]
  },
  {
   "cell_type": "code",
   "execution_count": 33,
   "metadata": {},
   "outputs": [],
   "source": [
    "%%bash\n",
    "# quick symlink fix \n",
    "ln -s /data/reddylab/Alex/collab/20240529_Crawford/data/rna_seq/raw_reads/30-1018285327/00_fastq/ \\\n",
    "    /data/reddylab/Alex/collab/20240529_Crawford/data/rna_seq/raw_reads/azenta_30_1018285327"
   ]
  },
  {
   "cell_type": "code",
   "execution_count": 23,
   "metadata": {},
   "outputs": [
    {
     "name": "stdout",
     "output_type": "stream",
     "text": [
      "Overwriting /data/reddylab/Alex/collab/20240529_Crawford/processing/rna_seq/scripts/merge_lanes_azenta_30_1018285327.sh\n"
     ]
    }
   ],
   "source": [
    "%%writefile /data/reddylab/Alex/collab/20240529_Crawford/processing/rna_seq/scripts/merge_lanes_azenta_30_1018285327.sh\n",
    "#!/bin/bash\n",
    "#SBATCH --array=0-9%20\n",
    "ORDER=azenta_30_1018285327\n",
    "RAW_DATA_DIR=/data/reddylab/Alex/collab/20240529_Crawford/data/rna_seq/raw_reads/${ORDER}\n",
    "PROCESSED_DATA_DIR=/data/reddylab/Alex/collab/20240529_Crawford/data/rna_seq/processed_raw_reads/${ORDER}\n",
    "METADATA=/data/reddylab/Alex/collab/20240529_Crawford/data/rna_seq/metadata/rna_seq_download_metadata.azenta_30_1018285327.txt\n",
    "\n",
    "mkdir -p ${PROCESSED_DATA_DIR}\n",
    "cd ${PROCESSED_DATA_DIR}\n",
    "\n",
    "seq_name_header=$(/bin/grep -Eoi \"sequencing.?core.?library.?name\" ${METADATA})\n",
    "if [[ $? == 1 ]];\n",
    "then\n",
    "    echo -e \"ERROR: Sequencing core library name not found in ${METADATA}\"\n",
    "    exit 1\n",
    "fi\n",
    "\n",
    "name_header=$(/bin/grep -Poi \"\\tname\\t\" ${METADATA})\n",
    "if [[ $? == 1 ]];\n",
    "then\n",
    "    echo -e \"ERROR: Library Name column not found in ${METADATA}\"\n",
    "    exit 1\n",
    "fi\n",
    "name_header=$(echo ${name_header} | cut -f2)\n",
    "\n",
    "seq_type_header=$(head -1 ${METADATA} | /bin/grep -Poi \"paired.?end.?or.?single.?end\")\n",
    "if [[ $? == 1 ]];\n",
    "then\n",
    "    echo -e \"ERROR: Paired-end or single-end column not found in ${METADATA}\"\n",
    "    exit 1\n",
    "fi\n",
    "\n",
    "sample_seq_name=$(/data/reddylab/software/bin/print_tab_cols.awk -v cols=\"${seq_name_header}\" ${METADATA} \\\n",
    "    | awk -v SLURM_ARRAY_TASK_ID=${SLURM_ARRAY_TASK_ID} 'NR==SLURM_ARRAY_TASK_ID+1{print}');\n",
    "sample_name=$(/data/reddylab/software/bin/print_tab_cols.awk -v cols=\"${name_header}\" ${METADATA} \\\n",
    "    | awk -v SLURM_ARRAY_TASK_ID=${SLURM_ARRAY_TASK_ID} 'NR==SLURM_ARRAY_TASK_ID+1{print}');\n",
    "seq_type=$(/data/reddylab/software/bin/print_tab_cols.awk -v cols=\"${seq_type_header}\" ${METADATA} \\\n",
    "    | awk -v SLURM_ARRAY_TASK_ID=${SLURM_ARRAY_TASK_ID} 'NR==SLURM_ARRAY_TASK_ID+1{print}');\n",
    "\n",
    "\n",
    "for read_pair in R1 R2 UMI;\n",
    "do\n",
    "    sample_files=$(/bin/ls ${RAW_DATA_DIR}/${sample_seq_name/ /}_${read_pair}_[0-9][0-9][0-9]*fastq.gz 2> /dev/null)\n",
    "    if [[ $? != 0 ]]; # If no samples found with that read_pair, continue\n",
    "    then\n",
    "        continue;\n",
    "    fi\n",
    "    if [[ ${read_pair} == \"R1\" || (${seq_type/ /} == \"PE\" || ${seq_type/ /} == \"pe\") ]];\n",
    "    then\n",
    "        # Merge all lanes\n",
    "        merged=$(basename $(echo ${sample_files} | awk '{print $1}') | sed -e 's/_[0-9]\\{3\\}\\./_/')\n",
    "        cat ${sample_files} > ${merged};\n",
    "\n",
    "        # Rename samples with our sample Names\n",
    "        dest_filename=$(basename $(echo ${merged} | awk '{print $1}') | sed -r 's/\\_(R1|R2|UMI)\\_/\\.\\1\\./; s/\\.[0-9]+\\.fastq/\\.fastq/')\n",
    "        mv ${merged} ${dest_filename}\n",
    "\n",
    "        cleaned_dest_filename=${dest_filename/${sample_seq_name/ /}/${sample_name/ /}}\n",
    "\n",
    "        if [[ ${seq_type/ /} == \"SE\" || ${seq_type/ /} == \"se\" ]];\n",
    "        then\n",
    "            cleaned_dest_filename=${cleaned_dest_filename/.R1/}\n",
    "        fi\n",
    "        \n",
    "        mv ${dest_filename} ${cleaned_dest_filename}\n",
    "    fi\n",
    "done\n"
   ]
  },
  {
   "cell_type": "code",
   "execution_count": 19,
   "metadata": {},
   "outputs": [
    {
     "name": "stdout",
     "output_type": "stream",
     "text": [
      "A549.rnaseq.1kPa.rep1.R1.fastq.gz\n"
     ]
    }
   ],
   "source": [
    "%%bash\n",
    "RAW_DATA_DIR='/data/reddylab/Alex/collab/20240529_Crawford/data/rna_seq/raw_reads/30-1018285327/00_fastq'\n",
    "sample_seq_name='A549-1Kpa-B1'\n",
    "sample_name='A549.rnaseq.1kPa.rep1'\n",
    "read_pair='R1'\n",
    "sample_files=$(/bin/ls ${RAW_DATA_DIR}/${sample_seq_name/ /}_${read_pair}_[0-9][0-9][0-9]*fastq.gz 2> /dev/null)\n",
    "merged=$(basename $(echo ${sample_files} | awk '{print $1}') | sed -e 's/_[0-9]\\{3\\}\\./_/')\n",
    "dest_filename=$(basename $(echo ${merged} | awk '{print $1}') | sed -r 's/\\_(R1|R2|UMI)\\_/\\.\\1\\./; s/\\.[0-9]+\\.fastq/\\.fastq/')\n",
    "echo ${dest_filename/${sample_seq_name/ /}/${sample_name/ /}}"
   ]
  },
  {
   "cell_type": "markdown",
   "metadata": {},
   "source": [
    "Execute file to merge lanes of FASTQ files"
   ]
  },
  {
   "cell_type": "code",
   "execution_count": 34,
   "metadata": {},
   "outputs": [],
   "source": [
    "%%script --out blocking_job_str bash -s \"$blocking_job\"\n",
    "sbatch -o /data/reddylab/Alex/collab/20240529_Crawford/processing/rna_seq/logs/azenta_30_1018285327_merge_fastq_files_%a.out \\\n",
    " -p all \\\n",
    " --array 0-8%20 \\\n",
    " /data/reddylab/Alex/collab/20240529_Crawford/processing/rna_seq/scripts/merge_lanes_azenta_30_1018285327.sh"
   ]
  },
  {
   "cell_type": "markdown",
   "metadata": {},
   "source": [
    "Extract blocking job id"
   ]
  },
  {
   "cell_type": "code",
   "execution_count": 35,
   "metadata": {},
   "outputs": [],
   "source": [
    "import re\n",
    "blocking_job = re.match('Submitted batch job (\\d+).*', blocking_job_str).group(1)"
   ]
  },
  {
   "cell_type": "markdown",
   "metadata": {},
   "source": [
    "#### Create JSON files for CWL pipeline files"
   ]
  },
  {
   "cell_type": "code",
   "execution_count": 36,
   "metadata": {},
   "outputs": [
    {
     "name": "stdout",
     "output_type": "stream",
     "text": [
      "Overwriting /data/reddylab/Alex/collab/20240529_Crawford/processing/rna_seq/scripts/cwl_json_gen_azenta_30_1018285327.sh\n"
     ]
    }
   ],
   "source": [
    "%%writefile /data/reddylab/Alex/collab/20240529_Crawford/processing/rna_seq/scripts/cwl_json_gen_azenta_30_1018285327.sh\n",
    "#!/bin/bash\n",
    "ORDER=azenta_30_1018285327\n",
    "PROCESSED_DATA_DIR=/data/reddylab/Alex/collab/20240529_Crawford/data/rna_seq/processed_raw_reads/${ORDER}\n",
    "METADATA=/data/reddylab/Alex/collab/20240529_Crawford/data/rna_seq/metadata/rna_seq_download_metadata.azenta_30_1018285327.txt\n",
    "\n",
    "python /data/reddylab/software/cwl/GGR-cwl/v1.0/json-generator/run.py \\\n",
    "    -m ${METADATA} \\\n",
    "    -d ${PROCESSED_DATA_DIR} \\\n",
    "    -o /data/reddylab/Alex/collab/20240529_Crawford/processing/rna_seq/jsons \\\n",
    "    -t rna-seq \\\n",
    "    --fastq-gzipped \\\n",
    "    --mem 48000 \\\n",
    "    --nthreads 24 \\\n",
    "    --separate-jsons \\\n",
    "    --skip-star-2pass \\\n"
   ]
  },
  {
   "cell_type": "markdown",
   "metadata": {},
   "source": [
    "Execute file to create JSON files"
   ]
  },
  {
   "cell_type": "code",
   "execution_count": 37,
   "metadata": {},
   "outputs": [],
   "source": [
    "%%script --out blocking_job_str bash -s \"$blocking_job\"\n",
    "source /data/reddylab/software/miniconda2/bin/activate cwl10\n",
    "sbatch -o /data/reddylab/Alex/collab/20240529_Crawford/processing/rna_seq/logs/azenta_30_1018285327_cwl_json_gen.out \\\n",
    " -p all \\\n",
    " --depend afterok:$1 \\\n",
    " /data/reddylab/Alex/collab/20240529_Crawford/processing/rna_seq/scripts/cwl_json_gen_azenta_30_1018285327.sh"
   ]
  },
  {
   "cell_type": "markdown",
   "metadata": {},
   "source": [
    "Extract blocking job id"
   ]
  },
  {
   "cell_type": "code",
   "execution_count": 38,
   "metadata": {},
   "outputs": [],
   "source": [
    "import re\n",
    "blocking_job = re.match('Submitted batch job (\\d+).*', blocking_job_str).group(1)"
   ]
  },
  {
   "cell_type": "markdown",
   "metadata": {},
   "source": [
    "#### Create SLURM array master bash file for pe-unstranded-with-sjdb samples"
   ]
  },
  {
   "cell_type": "code",
   "execution_count": 39,
   "metadata": {},
   "outputs": [
    {
     "name": "stdout",
     "output_type": "stream",
     "text": [
      "Overwriting /data/reddylab/Alex/collab/20240529_Crawford/processing/rna_seq/scripts/azenta_30_1018285327-pe-unstranded-with-sjdb.sh\n"
     ]
    }
   ],
   "source": [
    "%%writefile /data/reddylab/Alex/collab/20240529_Crawford/processing/rna_seq/scripts/azenta_30_1018285327-pe-unstranded-with-sjdb.sh\n",
    "#!/bin/bash\n",
    "#SBATCH --job-name=cwl_rna_seq\n",
    "#SBATCH --output=/data/reddylab/Alex/collab/20240529_Crawford/processing/rna_seq/logs/azenta_30_1018285327-pe-unstranded-with-sjdb-%a.out\n",
    "#SBATCH --mail-user=aeb84@duke.edu\n",
    "#SBATCH --mail-type=FAIL,END\n",
    "#SBATCH --mem=48000\n",
    "#SBATCH --cpus-per-task=24\n",
    "\n",
    "export PATH=\"/data/reddylab/software/bin:$PATH\"\n",
    "export PATH=\"/data/common/shared_conda_envs/ucsc/bin:$PATH\"\n",
    "export PATH=\"/data/reddylab/software/cwl/bin:$PATH\"\n",
    "export PATH=\"/data/reddylab/software/preseq_v2.0:$PATH\"\n",
    "export PATH=\"/data/reddylab/software/rsem-1.2.21/:$PATH\"\n",
    "export PATH=\"/data/reddylab/software/STAR-STAR_2.4.1a/bin/Linux_x86_64/:$PATH\"\n",
    "export PATH=\"/data/reddylab/software/subread-1.4.6-p4-Linux-x86_64/bin/:$PATH\"\n",
    "export PATH=\"/data/reddylab/software/bamtools-2.2.3/bin/:$PATH\"\n",
    "\n",
    "export PATH=\"/data/reddylab/software/miniconda2/envs/cwl10/bin:$PATH\"\n",
    "\n",
    "module load bedtools2\n",
    "module load fastqc\n",
    "module load samtools\n",
    "module load bowtie2\n",
    "module load java\n",
    "\n",
    "# For Fastqc\n",
    "export DISPLAY=:0.0\n",
    "\n",
    "# Make sure temporary files and folders are created in a specific folder\n",
    "mkdir -p /data/reddylab/Alex/collab/20240529_Crawford/processing/rna_seq/tmpdirs/tmp-azenta_30_1018285327-pe-unstranded-with-sjdb-${SLURM_ARRAY_TASK_ID}-\n",
    "export TMPDIR=\"/data/reddylab/Alex/collab/20240529_Crawford/processing/rna_seq/tmpdirs/tmp-azenta_30_1018285327-pe-unstranded-with-sjdb-${SLURM_ARRAY_TASK_ID}-\"\n",
    "\n",
    "cwltool --debug \\\n",
    "    --non-strict \\\n",
    "    --preserve-environment PATH \\\n",
    "    --preserve-environment DISPLAY \\\n",
    "    --preserve-environment TMPDIR \\\n",
    "    --outdir /data/reddylab/Alex/collab/20240529_Crawford/processing/rna_seq/azenta_30_1018285327-pe-unstranded-with-sjdb  \\\n",
    "    --no-container \\\n",
    "    /data/reddylab/software/cwl/GGR-cwl/v1.0/RNA-seq_pipeline/pipeline-pe-unstranded-with-sjdb.cwl \\\n",
    "    /data/reddylab/Alex/collab/20240529_Crawford/processing/rna_seq/jsons/rna_seq_download_metadata.azenta_30_1018285327-pe-unstranded-with-sjdb-${SLURM_ARRAY_TASK_ID}.json\n",
    "\n",
    "# Delete any tmpdir not removed by cwltool\n",
    "rm -rf /data/reddylab/Alex/collab/20240529_Crawford/processing/rna_seq/tmpdirs/tmp-azenta_30_1018285327-pe-unstranded-with-sjdb-${SLURM_ARRAY_TASK_ID}-\n"
   ]
  },
  {
   "cell_type": "markdown",
   "metadata": {},
   "source": [
    "Execute SLURM array master file"
   ]
  },
  {
   "cell_type": "code",
   "execution_count": 40,
   "metadata": {},
   "outputs": [],
   "source": [
    "%%script --out blocking_job_str bash -s \"$blocking_job\"\n",
    "source /data/reddylab/software/miniconda2/bin/activate cwl10\n",
    "sbatch -p all \\\n",
    " --depend afterok:$1 \\\n",
    " --array 0-8%20 \\\n",
    " /data/reddylab/Alex/collab/20240529_Crawford/processing/rna_seq/scripts/azenta_30_1018285327-pe-unstranded-with-sjdb.sh"
   ]
  },
  {
   "cell_type": "markdown",
   "metadata": {},
   "source": [
    "Extract blocking job id"
   ]
  },
  {
   "cell_type": "code",
   "execution_count": 41,
   "metadata": {},
   "outputs": [],
   "source": [
    "import re\n",
    "blocking_job = re.match('Submitted batch job (\\d+).*', blocking_job_str).group(1)"
   ]
  },
  {
   "cell_type": "markdown",
   "metadata": {},
   "source": [
    "#### Create QC generating script"
   ]
  },
  {
   "cell_type": "code",
   "execution_count": 42,
   "metadata": {},
   "outputs": [
    {
     "name": "stdout",
     "output_type": "stream",
     "text": [
      "Overwriting /data/reddylab/Alex/collab/20240529_Crawford/processing/rna_seq/scripts/generate_qc_cell_azenta_30_1018285327-pe-unstranded-with-sjdb.sh\n"
     ]
    }
   ],
   "source": [
    "%%writefile /data/reddylab/Alex/collab/20240529_Crawford/processing/rna_seq/scripts/generate_qc_cell_azenta_30_1018285327-pe-unstranded-with-sjdb.sh\n",
    "#!/bin/bash\n",
    "#SBATCH --job-name=qc\n",
    "#SBATCH --output=/data/reddylab/Alex/collab/20240529_Crawford/processing/rna_seq/logs/qc_gen.azenta_30_1018285327-pe-unstranded-with-sjdb.out\n",
    "\n",
    "source /data/reddylab/software/miniconda2/bin/activate alex\n",
    "cd /data/reddylab/Alex/collab/20240529_Crawford/processing/rna_seq/azenta_30_1018285327-pe-unstranded-with-sjdb\n",
    "\n",
    "python /data/reddylab/software/cwl/bin/generate_stats_rnaseq_paired_end.py ./ \\\n",
    "    -samples $(/bin/ls -1 *PBC.txt | sed 's@.PBC.txt@@') \\\n",
    "> qc.txt"
   ]
  },
  {
   "cell_type": "markdown",
   "metadata": {},
   "source": [
    "Generate QCs for azenta_30_1018285327-pe-unstranded-with-sjdb"
   ]
  },
  {
   "cell_type": "code",
   "execution_count": null,
   "metadata": {},
   "outputs": [],
   "source": [
    "%%script --out blocking_job_str bash -s \"$blocking_job\"\n",
    "sbatch -p all \\\n",
    " --depend afterok:$1 \\\n",
    " /data/reddylab/Alex/collab/20240529_Crawford/processing/rna_seq/scripts/generate_qc_cell_azenta_30_1018285327-pe-unstranded-with-sjdb.sh"
   ]
  },
  {
   "cell_type": "markdown",
   "metadata": {},
   "source": [
    "Merge `featureCounts` files and add Gene Symbols"
   ]
  },
  {
   "cell_type": "code",
   "execution_count": 1,
   "metadata": {},
   "outputs": [],
   "source": [
    "import pandas as pd\n",
    "import re\n",
    "import os\n",
    "data_dir = '/data/reddylab/Alex/collab/20240529_Crawford/processing/rna_seq/azenta_30_1018285327-pe-unstranded-with-sjdb'\n",
    "comp_files = [\n",
    "    [\n",
    "        \"A549.rnaseq.1kPa.rep1.star2.featurecounts.counts.txt\",\n",
    "        \"A549.rnaseq.1kPa.rep2.star2.featurecounts.counts.txt\",\n",
    "        \"A549.rnaseq.1kPa.rep3.star2.featurecounts.counts.txt\",\n",
    "        \"A549.rnaseq.50kPa.rep1.star2.featurecounts.counts.txt\",\n",
    "        \"A549.rnaseq.50kPa.rep2.star2.featurecounts.counts.txt\",\n",
    "        \"A549.rnaseq.50kPa.rep3.star2.featurecounts.counts.txt\",\n",
    "        \"A549.rnaseq.TCP.rep1.star2.featurecounts.counts.txt\",\n",
    "        \"A549.rnaseq.TCP.rep2.star2.featurecounts.counts.txt\",\n",
    "        \"A549.rnaseq.TCP.rep3.star2.featurecounts.counts.txt\"\n",
    "    ]\n",
    "]\n",
    "\n",
    "def clean_count_column(s):\n",
    "    return \".\".join(s.split('/')[-1].split('.')[:4])\n",
    "\n",
    "\n",
    "for comp_i0, files in enumerate(comp_files):\n",
    "    df = None\n",
    "    comp_i1 = comp_i0 + 1\n",
    "\n",
    "    for f in files:\n",
    "        df_tmp = pd.read_csv(os.path.join(data_dir, f), sep='\\t', skiprows=1, index_col=0)\n",
    "        df_tmp.columns = df_tmp.columns[:-1].tolist() + [clean_count_column(f)]\n",
    "        if df is None:\n",
    "            df = df_tmp.loc[:, ['Chr', 'Start', 'End'] + [df_tmp.columns[-1]]]\n",
    "        else:\n",
    "            df = df.join(df_tmp.loc[:, df_tmp.columns[-1]], how='right')\n",
    "\n",
    "    count_columns = [\"rep\" in c for c in df.columns]\n",
    "    df.loc[:, count_columns] = df.loc[:, count_columns].round().astype(dtype='int')\n",
    "\n",
    "    df.columns = [c.replace(\"-\", \"_\") for c in df.columns]\n",
    "    df.to_csv(f\"{data_dir}/A549.rnaseq.featureCounts.all.txt\",\n",
    "             sep='\\t')\n",
    "\n",
    "    "
   ]
  },
  {
   "cell_type": "code",
   "execution_count": null,
   "metadata": {},
   "outputs": [],
   "source": [
    "%%bash\n",
    "source /data/reddylab/Alex/software/miniforge3/bin/activate intervene\n",
    "add_gene_symbol_to_df.py \\\n",
    "    -ifile \\\n",
    "        /data/reddylab/Alex/collab/20240529_Crawford/processing/rna_seq/azenta_30_1018285327-pe-unstranded-with-sjdb/A549.rnaseq.featureCounts.all.txt \\\n",
    "    -outfile \\\n",
    "        /data/reddylab/Alex/collab/20240529_Crawford/processing/rna_seq/azenta_30_1018285327-pe-unstranded-with-sjdb/A549.rnaseq.featureCounts.all.with_gene_symbols.txt \\\n",
    "    -gene-id-to-symbol-format JSON \\\n",
    "    --gene-id-to-symbol-ix-id 0 \\\n",
    "    -gene-id-to-symbol \\\n",
    "        /data/reddylab/Reference_Data/Gencode/v22/gencode.v22.gene_id_to_gene_name.json"
   ]
  }
 ],
 "metadata": {
  "kernelspec": {
   "display_name": "Python 3",
   "language": "python",
   "name": "python3"
  },
  "language_info": {
   "codemirror_mode": {
    "name": "ipython",
    "version": 3
   },
   "file_extension": ".py",
   "mimetype": "text/x-python",
   "name": "python",
   "nbconvert_exporter": "python",
   "pygments_lexer": "ipython3",
   "version": "3.6.7"
  }
 },
 "nbformat": 4,
 "nbformat_minor": 1
}
