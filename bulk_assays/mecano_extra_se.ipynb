{
 "cells": [
  {
   "cell_type": "markdown",
   "metadata": {},
   "source": [
    "# mecano_extra_se - atac_seq\n",
    "This notebook will create all the necessary files, scripts and folders to pre-process the aforementioned project. Is designed to be used in a jupyter server deployed in a system running SLURM. The majority of the scripts and heavy-lifting processes are wrapped up in sbatch scripts.As an end user, in order to pre-process your samples provided in the spread sheet, you will simply need to *run the entire notebook* (Cell > Run all) and the system should take care of the rest for you.\n",
    "#### Create necessary folder(s)"
   ]
  },
  {
   "cell_type": "code",
   "execution_count": null,
   "metadata": {},
   "outputs": [],
   "source": [
    "%%bash\n",
    "mkdir -p /data/reddylab/Alex/collab/20240318_Crawford/data/atac_seq/metadata\n",
    "mkdir -p /data/reddylab/Alex/collab/20240318_Crawford/data/atac_seq/raw_reads\n",
    "mkdir -p /data/reddylab/Alex/collab/20240318_Crawford/data/atac_seq/processed_raw_reads\n",
    "mkdir -p /data/reddylab/Alex/collab/20240318_Crawford/processing/atac_seq/scripts\n",
    "mkdir -p /data/reddylab/Alex/collab/20240318_Crawford/processing/atac_seq/jsons\n",
    "mkdir -p /data/reddylab/Alex/collab/20240318_Crawford/processing/atac_seq/logs"
   ]
  },
  {
   "cell_type": "markdown",
   "metadata": {},
   "source": [
    "Save metadata file"
   ]
  },
  {
   "cell_type": "code",
   "execution_count": 1,
   "metadata": {},
   "outputs": [
    {
     "name": "stdout",
     "output_type": "stream",
     "text": [
      "Writing /data/reddylab/Alex/collab/20240318_Crawford/data/atac_seq/metadata/atac_seq_download_metadata.mecano_extra_se.txt\n"
     ]
    }
   ],
   "source": [
    "%%writefile /data/reddylab/Alex/collab/20240318_Crawford/data/atac_seq/metadata/atac_seq_download_metadata.mecano_extra_se.txt\n",
    "Sequencing core project\tSequencing core library name\tName\tPaired-end or single-end\tGenome\tLibrary type\tUmis\tControl\tStrand specificity\tBlacklist removal\tWith ercc spike-in\n",
    "mecano_extra\tG2911\tlung_fibroblast.atacseq.IPF.brep1\tSE\thg38\tATAC-seq\t\t\t\tTrue\t\n",
    "mecano_extra\tG2912\tlung_fibroblast.atacseq.IPF.brep2\tSE\thg38\tATAC-seq\t\t\t\tTrue\t\n",
    "mecano_extra\tG2913\tlung_fibroblast.atacseq.IPF.brep3\tSE\thg38\tATAC-seq\t\t\t\tTrue\t\n",
    "mecano_extra\tG2914\tlung_fibroblast.atacseq.IPF.brep4\tSE\thg38\tATAC-seq\t\t\t\tTrue\t\n",
    "mecano_extra\tG2919\tA549.atacseq.gel_1kpa.brep1\tSE\thg38\tATAC-seq\t\t\t\tTrue\t\n",
    "mecano_extra\tG2920\tA549.atacseq.gel_1kpa.brep2\tSE\thg38\tATAC-seq\t\t\t\tTrue\t\n",
    "mecano_extra\tG2921\tA549.atacseq.gel_1kpa.brep3\tSE\thg38\tATAC-seq\t\t\t\tTrue\t\n",
    "mecano_extra\tG2928\tHCT116.atacseq.gel_1kpa.brep1\tSE\thg38\tATAC-seq\t\t\t\tTrue\t\n",
    "mecano_extra\tG2929\tHCT116.atacseq.gel_1kpa.brep2\tSE\thg38\tATAC-seq\t\t\t\tTrue\t\n",
    "mecano_extra\tG2930\tHCT116.atacseq.gel_1kpa.brep3\tSE\thg38\tATAC-seq\t\t\t\tTrue\t\n",
    "mecano_extra\tG2922\tA549.atacseq.gel_50kpa.brep1\tSE\thg38\tATAC-seq\t\t\t\tTrue\t\n",
    "mecano_extra\tG2923\tA549.atacseq.gel_50kpa.brep2\tSE\thg38\tATAC-seq\t\t\t\tTrue\t\n",
    "mecano_extra\tG2924\tA549.atacseq.gel_50kpa.brep3\tSE\thg38\tATAC-seq\t\t\t\tTrue\t\n",
    "mecano_extra\tG2925\tHCT116.atacseq.gel_50kpa.brep1\tSE\thg38\tATAC-seq\t\t\t\tTrue\t\n",
    "mecano_extra\tG2926\tHCT116.atacseq.gel_50kpa.brep2\tSE\thg38\tATAC-seq\t\t\t\tTrue\t\n",
    "mecano_extra\tG2927\tHCT116.atacseq.gel_50kpa.brep3\tSE\thg38\tATAC-seq\t\t\t\tTrue\t\n",
    "mecano_extra\tG2915\tlung_fibroblast.atacseq.control.brep1\tSE\thg38\tATAC-seq\t\t\t\tTrue\t\n",
    "mecano_extra\tG2916\tlung_fibroblast.atacseq.control.brep2\tSE\thg38\tATAC-seq\t\t\t\tTrue\t\n",
    "mecano_extra\tG2917\tlung_fibroblast.atacseq.control.brep3\tSE\thg38\tATAC-seq\t\t\t\tTrue\t\n",
    "mecano_extra\tG2918\tlung_fibroblast.atacseq.control.brep4\tSE\thg38\tATAC-seq\t\t\t\tTrue\t\n"
   ]
  },
  {
   "cell_type": "markdown",
   "metadata": {},
   "source": [
    "### FASTQ files already available locally!!\n",
    "Please, make sure the FASTQ files are correctly named, decompressed and located/symlinked in:\n",
    "\n",
    "**\n",
    "/data/reddylab/Alex/collab/20240318_Crawford/data/atac_seq/processed_raw_reads/mecano_extra_se\n",
    "**"
   ]
  },
  {
   "cell_type": "code",
   "execution_count": 6,
   "metadata": {},
   "outputs": [],
   "source": [
    "%%bash\n",
    "# mkdir -p /data/reddylab/Alex/collab/20240318_Crawford/data/atac_seq/processed_raw_reads/mecano_extra_se\n",
    "cd /data/reddylab/Alex/collab/20240318_Crawford/data/atac_seq/processed_raw_reads/mecano_extra_se\n",
    "# ln -s ../mecano_extra/*.R1.fastq.gz ./\n",
    "rename .R1.fastq .fastq *.R1.fastq.gz"
   ]
  },
  {
   "cell_type": "markdown",
   "metadata": {},
   "source": [
    "#### Create JSON files for CWL pipeline files"
   ]
  },
  {
   "cell_type": "code",
   "execution_count": 3,
   "metadata": {},
   "outputs": [
    {
     "name": "stdout",
     "output_type": "stream",
     "text": [
      "Writing /data/reddylab/Alex/collab/20240318_Crawford/processing/atac_seq/scripts/cwl_json_gen_mecano_extra_se.sh\n"
     ]
    }
   ],
   "source": [
    "%%writefile /data/reddylab/Alex/collab/20240318_Crawford/processing/atac_seq/scripts/cwl_json_gen_mecano_extra_se.sh\n",
    "#!/bin/bash\n",
    "ORDER=mecano_extra_se\n",
    "PROCESSED_DATA_DIR=/data/reddylab/Alex/collab/20240318_Crawford/data/atac_seq/processed_raw_reads/${ORDER}\n",
    "METADATA=/data/reddylab/Alex/collab/20240318_Crawford/data/atac_seq/metadata/atac_seq_download_metadata.mecano_extra_se.txt\n",
    "\n",
    "python /data/reddylab/software/cwl/GGR-cwl/v1.0/json-generator/run.py \\\n",
    "    -m ${METADATA} \\\n",
    "    -d ${PROCESSED_DATA_DIR} \\\n",
    "    -o /data/reddylab/Alex/collab/20240318_Crawford/processing/atac_seq/jsons \\\n",
    "    -t atac-seq \\\n",
    "    --fastq-gzipped \\\n",
    "    --mem 24000 \\\n",
    "    --nthreads 16 \\\n",
    "    --separate-jsons\n",
    "\n"
   ]
  },
  {
   "cell_type": "markdown",
   "metadata": {},
   "source": [
    "Execute file to create JSON files"
   ]
  },
  {
   "cell_type": "code",
   "execution_count": 4,
   "metadata": {},
   "outputs": [],
   "source": [
    "%%script --out blocking_job_str bash -s \"$blocking_job\"\n",
    "source /data/reddylab/software/miniconda2/bin/activate cwl10\n",
    "sbatch -o /data/reddylab/Alex/collab/20240318_Crawford/processing/atac_seq/logs/mecano_extra_se_cwl_json_gen.out \\\n",
    " -p all \\\n",
    " /data/reddylab/Alex/collab/20240318_Crawford/processing/atac_seq/scripts/cwl_json_gen_mecano_extra_se.sh"
   ]
  },
  {
   "cell_type": "markdown",
   "metadata": {},
   "source": [
    "Extract blocking job id"
   ]
  },
  {
   "cell_type": "code",
   "execution_count": 5,
   "metadata": {},
   "outputs": [],
   "source": [
    "import re\n",
    "blocking_job = re.match('Submitted batch job (\\d+).*', blocking_job_str).group(1)"
   ]
  },
  {
   "cell_type": "markdown",
   "metadata": {},
   "source": [
    "#### Create SLURM array master bash file for se-blacklist-removal samples"
   ]
  },
  {
   "cell_type": "code",
   "execution_count": 7,
   "metadata": {},
   "outputs": [
    {
     "name": "stdout",
     "output_type": "stream",
     "text": [
      "Writing /data/reddylab/Alex/collab/20240318_Crawford/processing/atac_seq/scripts/mecano_extra_se-se-blacklist-removal.sh\n"
     ]
    }
   ],
   "source": [
    "%%writefile /data/reddylab/Alex/collab/20240318_Crawford/processing/atac_seq/scripts/mecano_extra_se-se-blacklist-removal.sh\n",
    "#!/bin/bash\n",
    "#SBATCH --job-name=cwl_atac_seq\n",
    "#SBATCH --output=/data/reddylab/Alex/collab/20240318_Crawford/processing/atac_seq/logs/mecano_extra_se-se-blacklist-removal-%a.out\n",
    "#SBATCH --mail-user=aeb84@duke.edu\n",
    "#SBATCH --mail-type=FAIL,END\n",
    "#SBATCH --mem=24000\n",
    "#SBATCH --cpus-per-task=16\n",
    "\n",
    "export PATH=\"/data/reddylab/software/bin:$PATH\"\n",
    "export PATH=\"/data/common/shared_conda_envs/ucsc/bin:$PATH\"\n",
    "export PATH=\"/data/reddylab/software/cwl/bin:$PATH\"\n",
    "export PATH=\"/data/reddylab/software/preseq_v2.0:$PATH\"\n",
    "export PATH=\"/data/reddylab/software/rsem-1.2.21/:$PATH\"\n",
    "export PATH=\"/data/reddylab/software/phantompeakqualtools-1.2/:$PATH\"\n",
    "export PATH=\"/data/reddylab/software/miniconda2/envs/cwl10/bin:$PATH\"\n",
    "\n",
    "module load bedtools2\n",
    "module load fastqc\n",
    "module load samtools\n",
    "module load bowtie2\n",
    "module load java\n",
    "\n",
    "# For Fastqc\n",
    "export DISPLAY=:0.0\n",
    "\n",
    "# Make sure temporary files and folders are created in a specific folder\n",
    "mkdir -p /data/reddylab/Alex/collab/20240318_Crawford/processing/atac_seq/tmpdirs/tmp-mecano_extra_se-se-blacklist-removal-${SLURM_ARRAY_TASK_ID}-\n",
    "export TMPDIR=\"/data/reddylab/Alex/collab/20240318_Crawford/processing/atac_seq/tmpdirs/tmp-mecano_extra_se-se-blacklist-removal-${SLURM_ARRAY_TASK_ID}-\"\n",
    "\n",
    "cwltool --debug \\\n",
    "    --non-strict \\\n",
    "    --preserve-environment PATH \\\n",
    "    --preserve-environment DISPLAY \\\n",
    "    --preserve-environment TMPDIR \\\n",
    "    --outdir /data/reddylab/Alex/collab/20240318_Crawford/processing/atac_seq/mecano_extra_se-se-blacklist-removal  \\\n",
    "    --no-container \\\n",
    "    /data/reddylab/software/cwl/GGR-cwl/v1.0/ATAC-seq_pipeline/pipeline-se-blacklist-removal.cwl \\\n",
    "    /data/reddylab/Alex/collab/20240318_Crawford/processing/atac_seq/jsons/atac_seq_download_metadata.mecano_extra_se-se-blacklist-removal-${SLURM_ARRAY_TASK_ID}.json\n",
    "\n",
    "# Delete any tmpdir not removed by cwltool\n",
    "rm -rf /data/reddylab/Alex/collab/20240318_Crawford/processing/atac_seq/tmpdirs/tmp-mecano_extra_se-se-blacklist-removal-${SLURM_ARRAY_TASK_ID}-\n"
   ]
  },
  {
   "cell_type": "code",
   "execution_count": null,
   "metadata": {},
   "outputs": [],
   "source": [
    "macs2 \\\n",
    "    callpeak \\\n",
    "    -n \\\n",
    "    /data/reddylab/Alex/collab/20240318_Crawford/processing/atac_seq/mecano_extra_se-se-blacklist-removal/A549.atacseq.gel_1kpa.brep3.trimmed.masked.dedup.sorted \\\n",
    "    --bdg \\\n",
    "    --extsize \\\n",
    "    200 \\\n",
    "    -f \\\n",
    "    BAM \\\n",
    "    -g \\\n",
    "    hs \\\n",
    "    --nomodel \\\n",
    "    -q \\\n",
    "    0.1 \\\n",
    "    --shift \\\n",
    "    -100 \\\n",
    "    --treatment \\\n",
    "    /data/reddylab/Alex/collab/20240318_Crawford/processing/atac_seq/mecano_extra_se-se-blacklist-removal/A549.atacseq.gel_1kpa.brep3.trimmed.masked.dups_marked.bam"
   ]
  },
  {
   "cell_type": "markdown",
   "metadata": {},
   "source": [
    "Execute SLURM array master file"
   ]
  },
  {
   "cell_type": "code",
   "execution_count": 8,
   "metadata": {},
   "outputs": [],
   "source": [
    "%%script --out blocking_job_str bash -s \"$blocking_job\"\n",
    "source /data/reddylab/software/miniconda2/bin/activate cwl10\n",
    "sbatch -p all \\\n",
    " --depend afterok:$1 \\\n",
    " --array 0-19%20 \\\n",
    " /data/reddylab/Alex/collab/20240318_Crawford/processing/atac_seq/scripts/mecano_extra_se-se-blacklist-removal.sh"
   ]
  },
  {
   "cell_type": "markdown",
   "metadata": {},
   "source": [
    "Extract blocking job id"
   ]
  },
  {
   "cell_type": "code",
   "execution_count": 9,
   "metadata": {},
   "outputs": [],
   "source": [
    "import re\n",
    "blocking_job = re.match('Submitted batch job (\\d+).*', blocking_job_str).group(1)"
   ]
  },
  {
   "cell_type": "markdown",
   "metadata": {},
   "source": [
    "#### Create QC generating script"
   ]
  },
  {
   "cell_type": "code",
   "execution_count": 2,
   "metadata": {},
   "outputs": [
    {
     "name": "stdout",
     "output_type": "stream",
     "text": [
      "Overwriting /data/reddylab/Alex/collab/20240318_Crawford/processing/atac_seq/scripts/generate_qc_cell_mecano_extra_se-se-blacklist-removal.sh\n"
     ]
    }
   ],
   "source": [
    "%%writefile /data/reddylab/Alex/collab/20240318_Crawford/processing/atac_seq/scripts/generate_qc_cell_mecano_extra_se-se-blacklist-removal.sh\n",
    "#!/bin/bash\n",
    "#SBATCH --job-name=qc\n",
    "#SBATCH --output=/data/reddylab/Alex/collab/20240318_Crawford/processing/atac_seq/logs/qc_gen.mecano_extra_se-se-blacklist-removal.out\n",
    "\n",
    "source /data/reddylab/software/miniconda2/bin/activate alex\n",
    "cd /data/reddylab/Alex/collab/20240318_Crawford/processing/atac_seq/mecano_extra_se-se-blacklist-removal\n",
    "\n",
    "python /data/reddylab/software/cwl/bin/generate_stats_atacseq_single_end.py ./ \\\n",
    "    -samples $(/bin/ls -1 *PBC.txt | sed 's@.trimmed.PBC.txt@@') \\\n",
    "> qc.txt"
   ]
  },
  {
   "cell_type": "markdown",
   "metadata": {},
   "source": [
    "Generate QCs for mecano_extra_se-se-blacklist-removal"
   ]
  },
  {
   "cell_type": "code",
   "execution_count": 11,
   "metadata": {},
   "outputs": [],
   "source": [
    "%%script --out blocking_job_str bash -s \"$blocking_job\"\n",
    "sbatch -p all \\\n",
    " --depend afterok:$1 \\\n",
    " /data/reddylab/Alex/collab/20240318_Crawford/processing/atac_seq/scripts/generate_qc_cell_mecano_extra_se-se-blacklist-removal.sh"
   ]
  },
  {
   "cell_type": "markdown",
   "metadata": {},
   "source": [
    "Add ATAQC"
   ]
  },
  {
   "cell_type": "code",
   "execution_count": 9,
   "metadata": {},
   "outputs": [
    {
     "name": "stdout",
     "output_type": "stream",
     "text": [
      "Submitted batch job 30719204\n"
     ]
    }
   ],
   "source": [
    "%%bash\n",
    "module load bedtools2\n",
    "source /data/reddylab/software/miniconda2/bin/activate alex_dev\n",
    "BAMFILES=($(/bin/ls -1 /data/reddylab/Alex/collab/20240318_Crawford/processing/atac_seq/mecano_extra_se-se-blacklist-removal/*bam))\n",
    "#     --array=1-$((${#BAMFILES[@]}-1)) \\\n",
    "sbatch -p all \\\n",
    "    --cpus-per-task 8 \\\n",
    "    --array=1-$((${#BAMFILES[@]}-1)) \\\n",
    "    -o /data/reddylab/Alex/collab/20240318_Crawford/processing/atac_seq/logs/ataqc.mecano_extra_se-se-blacklist-removal.%a.out \\\n",
    "    <<'EOF'\n",
    "#!/bin/bash\n",
    "BAMFILES=($(/bin/ls -1 /data/reddylab/Alex/collab/20240318_Crawford/processing/atac_seq/mecano_extra_se-se-blacklist-removal/*bam))\n",
    "BAM=${BAMFILES[$SLURM_ARRAY_TASK_ID]}\n",
    "# \n",
    "python /data/reddylab/Alex/reddylab_utils/scripts/ataqc.make_tss_plot.py \\\n",
    "    --bam ${BAM} \\\n",
    "    --tss /data/reddylab/Reference_Data/Refseq/GRCh38/GRCh38_latest_genomic.ucsc_chromosomes.promoters.protein_coding.no_alt.bed \\\n",
    "    --read-length 100 \\\n",
    "    --processes 8 \\\n",
    "    --outfile-prefix ${BAM/.bam/.ataqc} \\\n",
    "    --chromosome-sizes \\\n",
    "        /data/reddylab/Reference_Data/Genomes/hg38/GCA_000001405.15_GRCh38_no_alt_analysis_set.sizes\n",
    "EOF"
   ]
  },
  {
   "cell_type": "code",
   "execution_count": 11,
   "metadata": {},
   "outputs": [
    {
     "name": "stdout",
     "output_type": "stream",
     "text": [
      "/data/reddylab/Alex/collab/20240318_Crawford/processing/atac_seq/mecano_extra_se-se-blacklist-removal/A549.atacseq.gel_1kpa.brep1.trimmed.masked.dups_marked.ataqc_large_tss-enrich.png\n"
     ]
    }
   ],
   "source": [
    "%%bash\n",
    "ls -a /data/reddylab/Alex/collab/20240318_Crawford/processing/atac_seq/mecano_extra_se-se-blacklist-removal/*.ataqc_large_tss-enrich.png"
   ]
  },
  {
   "cell_type": "markdown",
   "metadata": {},
   "source": [
    "Extract blocking job id"
   ]
  },
  {
   "cell_type": "code",
   "execution_count": null,
   "metadata": {},
   "outputs": [],
   "source": [
    "import re\n",
    "blocking_job = re.match('Submitted batch job (\\d+).*', blocking_job_str).group(1)"
   ]
  },
  {
   "cell_type": "markdown",
   "metadata": {},
   "source": [
    "Add the re-process of one set of samples from Brian's original processing effort"
   ]
  },
  {
   "cell_type": "code",
   "execution_count": 5,
   "metadata": {},
   "outputs": [
    {
     "name": "stdout",
     "output_type": "stream",
     "text": [
      "Writing /data/reddylab/Alex/collab/20240318_Crawford/processing/atac_seq/jsons/atac_seq_download_metadata.COSGROVE_5109_180815B1-se-blacklist-removal-1.json\n"
     ]
    }
   ],
   "source": [
    "%%writefile /data/reddylab/Alex/collab/20240318_Crawford/processing/atac_seq/jsons/atac_seq_download_metadata.COSGROVE_5109_180815B1-se-blacklist-removal-1.json\n",
    "{\n",
    "    \"input_fastq_files\": [\n",
    "        { \"class\": \"File\", \"path\": \"/data/gersbachlab/gersbach_portunus/cosgrove_brian/BDC04_ATACseq_RerunNewPipeline/data/atac_seq/processed_raw_reads/COSGROVE_5109_180815B1/compressed/HNF.BDC04atacseq.12kPa.20h.rep2.fastq.gz\" }\n",
    "    ],\n",
    "    \"as_narrowPeak_file\": { \"class\": \"File\", \"path\": \"/data/reddylab/Reference_Data/ENCODE/kent/src/hg/lib/encode/narrowPeak.as\" },\n",
    "    \"genome_effective_size\": \"hs\",\n",
    "    \"default_adapters_file\": { \"class\": \"File\", \"path\": \"/data/reddylab/Reference_Data/Adapters/default_adapters.fasta\" },\n",
    "    \"genome_ref_first_index_file\": { \"class\": \"File\", \"path\": \"/data/reddylab/Reference_Data/Genomes/hg38/GCA_000001405.15_GRCh38_no_alt_analysis_set.1.ebwt\"},\n",
    "    \"genome_sizes_file\": { \"class\": \"File\", \"path\": \"/data/reddylab/Reference_Data/Genomes/hg38/GCA_000001405.15_GRCh38_no_alt_analysis_set.sizes\" },\n",
    "    \"ENCODE_blacklist_bedfile\": { \"class\": \"File\", \"path\": \"/data/reddylab/Reference_Data/ENCODE/hg38.blacklist.merged.bed\" },\n",
    "    \"nthreads_qc\": 16,\n",
    "    \"nthreads_trimm\": 16,\n",
    "    \"nthreads_map\": 16,\n",
    "    \"nthreads_peakcall\": 16,\n",
    "    \"nthreads_quant\": 16,\n",
    "    \"trimmomatic_jar_path\": \"/data/reddylab/software/Trimmomatic-0.32/trimmomatic-0.32.jar\",\n",
    "    \"trimmomatic_java_opts\": \"-Xms12000m -Xmx24000m\",\n",
    "    \"picard_jar_path\": \"/data/reddylab/software/picard-2.14.0/bin/picard.jar\",\n",
    "    \"picard_java_opts\": \"-Xms12000m -Xmx24000m\"\n",
    "}"
   ]
  },
  {
   "cell_type": "code",
   "execution_count": 13,
   "metadata": {},
   "outputs": [
    {
     "name": "stdout",
     "output_type": "stream",
     "text": [
      "Overwriting /data/reddylab/Alex/collab/20240318_Crawford/processing/atac_seq/scripts/COSGROVE_5109_180815B1-se-blacklist-removal.sh\n"
     ]
    }
   ],
   "source": [
    "%%writefile /data/reddylab/Alex/collab/20240318_Crawford/processing/atac_seq/scripts/COSGROVE_5109_180815B1-se-blacklist-removal.sh\n",
    "#!/bin/bash\n",
    "#SBATCH --job-name=cwl_atac_seq\n",
    "#SBATCH --output=/data/reddylab/Alex/collab/20240318_Crawford/processing/atac_seq/logs/COSGROVE_5109_180815B1-se-blacklist-removal-%a.out\n",
    "#SBATCH --mail-user=alejandro.barrera@duke.edu\n",
    "#SBATCH --mail-type=FAIL,END\n",
    "#SBATCH --mem=24000\n",
    "#SBATCH --cpus-per-task=16\n",
    "\n",
    "export PATH=\"/data/reddylab/software/bin:$PATH\"\n",
    "export PATH=\"/data/common/shared_conda_envs/ucsc/bin:$PATH\"\n",
    "export PATH=\"/data/reddylab/software/cwl/bin:$PATH\"\n",
    "export PATH=\"/data/reddylab/software/preseq_v2.0:$PATH\"\n",
    "export PATH=\"/data/reddylab/software/rsem-1.2.21/:$PATH\"\n",
    "export PATH=\"/data/reddylab/software/phantompeakqualtools-1.2/:$PATH\"\n",
    "export PATH=\"/data/reddylab/software/miniconda2/envs/cwl10/bin:$PATH\"\n",
    "\n",
    "module load bedtools2\n",
    "module load fastqc\n",
    "module load samtools\n",
    "module load bowtie2\n",
    "module load java\n",
    "\n",
    "# For Fastqc\n",
    "export DISPLAY=:0.0\n",
    "\n",
    "# Make sure temporary files and folders are created in a specific folder\n",
    "mkdir -p /data/reddylab/Alex/collab/20240318_Crawford/processing/atac_seq/tmpdirs/tmp-COSGROVE_5109_180815B1-se-blacklist-removal-${SLURM_ARRAY_TASK_ID}-\n",
    "export TMPDIR=\"/data/reddylab/Alex/collab/20240318_Crawford/processing/atac_seq/tmpdirs/tmp-COSGROVE_5109_180815B1-se-blacklist-removal-${SLURM_ARRAY_TASK_ID}-\"\n",
    "\n",
    "cwltool --debug \\\n",
    "    --non-strict \\\n",
    "    --preserve-environment PATH \\\n",
    "    --preserve-environment DISPLAY \\\n",
    "    --preserve-environment TMPDIR \\\n",
    "    --outdir /data/reddylab/Alex/collab/20240318_Crawford/processing/atac_seq/COSGROVE_5109_180815B1-se-blacklist-removal  \\\n",
    "    --no-container \\\n",
    "    /data/reddylab/software/cwl/GGR-cwl/v1.0/ATAC-seq_pipeline/pipeline-se-blacklist-removal.cwl \\\n",
    "    /data/reddylab/Alex/collab/20240318_Crawford/processing/atac_seq/jsons/atac_seq_download_metadata.COSGROVE_5109_180815B1-se-blacklist-removal-${SLURM_ARRAY_TASK_ID}.json"
   ]
  },
  {
   "cell_type": "code",
   "execution_count": 15,
   "metadata": {},
   "outputs": [],
   "source": [
    "%%script --out blocking_job_str bash -s \"$blocking_job\"\n",
    "source /data/reddylab/software/miniconda2/bin/activate cwl10\n",
    "sbatch -p all \\\n",
    " --array 10 \\\n",
    " /data/reddylab/Alex/collab/20240318_Crawford/processing/atac_seq/scripts/COSGROVE_5109_180815B1-se-blacklist-removal.sh"
   ]
  }
 ],
 "metadata": {
  "kernelspec": {
   "display_name": "Python 3 (ipykernel)",
   "language": "python",
   "name": "python3"
  },
  "language_info": {
   "codemirror_mode": {
    "name": "ipython",
    "version": 3
   },
   "file_extension": ".py",
   "mimetype": "text/x-python",
   "name": "python",
   "nbconvert_exporter": "python",
   "pygments_lexer": "ipython3",
   "version": "3.12.3"
  }
 },
 "nbformat": 4,
 "nbformat_minor": 4
}
