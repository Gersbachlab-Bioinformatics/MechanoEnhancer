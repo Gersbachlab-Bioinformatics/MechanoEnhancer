{
 "cells": [
  {
   "cell_type": "markdown",
   "metadata": {},
   "source": [
    "# COSGROVE_5109_180815B1 - atac_seq\n",
    "This notebook will create all the necessary files, scripts and folders to pre-process the aforementioned project. Is designed to be used in a jupyter server deployed in a system running SLURM. The majority of the scripts and heavy-lifting processes are wrapped up in sbatch scripts.As an end user, in order to pre-process your samples provided in the spread sheet, you will simply need to *run the entire notebook* (Cell > Run all) and the system should take care of the rest for you.\n",
    "#### Create necessary folder(s)"
   ]
  },
  {
   "cell_type": "code",
   "execution_count": null,
   "metadata": {},
   "outputs": [],
   "source": [
    "%%bash\n",
    "mkdir -p /data/gersbachlab/bdc35/BDC04_ATACseq_RerunNewPipeline/data/atac_seq/metadata\n",
    "mkdir -p /data/gersbachlab/bdc35/BDC04_ATACseq_RerunNewPipeline/data/atac_seq/raw_reads\n",
    "mkdir -p /data/gersbachlab/bdc35/BDC04_ATACseq_RerunNewPipeline/data/atac_seq/processed_raw_reads\n",
    "mkdir -p /data/gersbachlab/bdc35/BDC04_ATACseq_RerunNewPipeline/processing/atac_seq/scripts\n",
    "mkdir -p /data/gersbachlab/bdc35/BDC04_ATACseq_RerunNewPipeline/processing/atac_seq/jsons\n",
    "mkdir -p /data/gersbachlab/bdc35/BDC04_ATACseq_RerunNewPipeline/processing/atac_seq/logs"
   ]
  },
  {
   "cell_type": "markdown",
   "metadata": {},
   "source": [
    "Save metadata file"
   ]
  },
  {
   "cell_type": "code",
   "execution_count": 1,
   "metadata": {},
   "outputs": [
    {
     "name": "stdout",
     "output_type": "stream",
     "text": [
      "Overwriting /data/gersbachlab/bdc35/BDC04_ATACseq_RerunNewPipeline/data/atac_seq/metadata/atac_seq_download_metadata.COSGROVE_5109_180815B1.txt\n"
     ]
    }
   ],
   "source": [
    "%%writefile /data/gersbachlab/bdc35/BDC04_ATACseq_RerunNewPipeline/data/atac_seq/metadata/atac_seq_download_metadata.COSGROVE_5109_180815B1.txt\n",
    "Sequencing core user\tSequencing core project\tSequencing core password\tSequencing core library name\tName\tIter num\tPaired-end or single-end\tGenome\tLibrary type\tBlacklist removal\n",
    "cosgrove_5109\tCOSGROVE_5109_180815B1\tARbjGbY8Hjj7\t50kPa_B2_Y27_1\tHNF.BDC04atacseq.50kPa_2_Y27.20h.rep1\t\tSE\thg38\tATAC_seq\tTrue\n",
    "cosgrove_5109\tCOSGROVE_5109_180815B1\tARbjGbY8Hjj7\t50kPa_B2_Y27_2\tHNF.BDC04atacseq.50kPa_2_Y27.20h.rep2\t\tSE\thg38\tATAC_seq\tTrue\n",
    "cosgrove_5109\tCOSGROVE_5109_180815B1\tARbjGbY8Hjj7\t1kPa_2\tHNF.BDC04atacseq.1kPa.20h.rep2\t\tSE\thg38\tATAC_seq\tTrue\n",
    "cosgrove_5109\tCOSGROVE_5109_180815B1\tARbjGbY8Hjj7\t1kPa_3\tHNF.BDC04atacseq.1kPa.20h.rep3\t\tSE\thg38\tATAC_seq\tTrue\n",
    "cosgrove_5109\tCOSGROVE_5109_180815B1\tARbjGbY8Hjj7\t1kPa_1\tHNF.BDC04atacseq.1kPa.20h.rep1\t\tSE\thg38\tATAC_seq\tTrue\n",
    "cosgrove_5109\tCOSGROVE_5109_180815B1\tARbjGbY8Hjj7\t50kPa_B2_1\tHNF.BDC04atacseq.50kPa_2.20h.rep1\t\tSE\thg38\tATAC_seq\tTrue\n",
    "cosgrove_5109\tCOSGROVE_5109_180815B1\tARbjGbY8Hjj7\t50kPa_2\tHNF.BDC04atacseq.50kPa.20h.rep2\t\tSE\thg38\tATAC_seq\tTrue\n",
    "cosgrove_5109\tCOSGROVE_5109_180815B1\tARbjGbY8Hjj7\t12kPa_3\tHNF.BDC04atacseq.12kPa.20h.rep3\t\tSE\thg38\tATAC_seq\tTrue\n",
    "cosgrove_5109\tCOSGROVE_5109_180815B1\tARbjGbY8Hjj7\t12kPa_2\tHNF.BDC04atacseq.12kPa.20h.rep2\t\tSE\thg38\tATAC_seq\tTrue\n",
    "cosgrove_5109\tCOSGROVE_5109_180815B1\tARbjGbY8Hjj7\t12kPa_1\tHNF.BDC04atacseq.12kPa.20h.rep1\t\tSE\thg38\tATAC_seq\tTrue\n",
    "cosgrove_5109\tCOSGROVE_5109_180815B1\tARbjGbY8Hjj7\t50kPa_Y27\tHNF.BDC04atacseq.50kPa_Y27.20h.rep1\t\tSE\thg38\tATAC_seq\tTrue\n",
    "cosgrove_5109\tCOSGROVE_5109_180815B1\tARbjGbY8Hjj7\t50kPa_1\tHNF.BDC04atacseq.50kPa.20h.rep1\t\tSE\thg38\tATAC_seq\tTrue\n"
   ]
  },
  {
   "cell_type": "markdown",
   "metadata": {},
   "source": [
    "### FASTQ files already available locally!!\n",
    "Please, make sure the FASTQ files are correctly named, decompressed and located/symlinked in:\n",
    "\n",
    "**\n",
    "/data/gersbachlab/bdc35/BDC04_ATACseq_RerunNewPipeline/data/atac_seq/processed_raw_reads/COSGROVE_5109_180815B1\n",
    "**"
   ]
  },
  {
   "cell_type": "markdown",
   "metadata": {},
   "source": [
    "#### Create JSON files for CWL pipeline files"
   ]
  },
  {
   "cell_type": "code",
   "execution_count": 1,
   "metadata": {},
   "outputs": [
    {
     "name": "stdout",
     "output_type": "stream",
     "text": [
      "Overwriting /data/gersbachlab/bdc35/BDC04_ATACseq_RerunNewPipeline/processing/atac_seq/scripts/cwl_json_gen_COSGROVE_5109_180815B1.sh\n"
     ]
    }
   ],
   "source": [
    "%%writefile /data/gersbachlab/bdc35/BDC04_ATACseq_RerunNewPipeline/processing/atac_seq/scripts/cwl_json_gen_COSGROVE_5109_180815B1.sh\n",
    "#!/bin/bash\n",
    "ORDER=COSGROVE_5109_180815B1\n",
    "PROCESSED_DATA_DIR=/data/gersbachlab/bdc35/BDC04_ATACseq_RerunNewPipeline/data/atac_seq/processed_raw_reads/${ORDER}\n",
    "METADATA=/data/gersbachlab/bdc35/BDC04_ATACseq_RerunNewPipeline/data/atac_seq/metadata/atac_seq_download_metadata.COSGROVE_5109_180815B1.txt\n",
    "\n",
    "python /data/reddylab/software/cwl/GGR-cwl/v1.0/json-generator/run.py \\\n",
    "    -m ${METADATA} \\\n",
    "    -d ${PROCESSED_DATA_DIR} \\\n",
    "    -o /data/gersbachlab/bdc35/BDC04_ATACseq_RerunNewPipeline/processing/atac_seq/jsons \\\n",
    "    -t atac-seq \\\n",
    "    --mem 24000 \\\n",
    "    --nthreads 16 \\\n",
    "    --separate-jsons\n"
   ]
  },
  {
   "cell_type": "markdown",
   "metadata": {},
   "source": [
    "Execute file to create JSON files"
   ]
  },
  {
   "cell_type": "code",
   "execution_count": 2,
   "metadata": {},
   "outputs": [],
   "source": [
    "%%script --out blocking_job_str bash -s \"$blocking_job\"\n",
    "source /data/reddylab/software/miniconda2/bin/activate cwl10\n",
    "sbatch -o /data/gersbachlab/bdc35/BDC04_ATACseq_RerunNewPipeline/processing/atac_seq/logs/COSGROVE_5109_180815B1_cwl_json_gen.out \\\n",
    " /data/gersbachlab/bdc35/BDC04_ATACseq_RerunNewPipeline/processing/atac_seq/scripts/cwl_json_gen_COSGROVE_5109_180815B1.sh"
   ]
  },
  {
   "cell_type": "markdown",
   "metadata": {},
   "source": [
    "Extract blocking job id"
   ]
  },
  {
   "cell_type": "code",
   "execution_count": 3,
   "metadata": {},
   "outputs": [],
   "source": [
    "import re\n",
    "blocking_job = re.match('Submitted batch job (\\d+).*', blocking_job_str).group(1)"
   ]
  },
  {
   "cell_type": "markdown",
   "metadata": {},
   "source": [
    "#### Create SLURM array master bash file for se-blacklist-removal samples"
   ]
  },
  {
   "cell_type": "code",
   "execution_count": 4,
   "metadata": {},
   "outputs": [
    {
     "name": "stdout",
     "output_type": "stream",
     "text": [
      "Overwriting /data/gersbachlab/bdc35/BDC04_ATACseq_RerunNewPipeline/processing/atac_seq/scripts/COSGROVE_5109_180815B1-se-blacklist-removal.sh\n"
     ]
    }
   ],
   "source": [
    "%%writefile /data/gersbachlab/bdc35/BDC04_ATACseq_RerunNewPipeline/processing/atac_seq/scripts/COSGROVE_5109_180815B1-se-blacklist-removal.sh\n",
    "#!/bin/bash\n",
    "#SBATCH --job-name=cwl_atac_seq\n",
    "#SBATCH --output=/data/gersbachlab/bdc35/BDC04_ATACseq_RerunNewPipeline/processing/atac_seq/logs/COSGROVE_5109_180815B1-se-blacklist-removal-%a.out\n",
    "#SBATCH --mail-user=brian.cosgrove@duke.edu\n",
    "#SBATCH --mail-type=FAIL,END\n",
    "#SBATCH --mem=24000\n",
    "#SBATCH --cpus-per-task=16\n",
    "\n",
    "export PATH=\"/data/reddylab/software/bin:$PATH\"\n",
    "export PATH=\"/data/reddylab/software/cwl/bin:$PATH\"\n",
    "export PATH=\"/data/reddylab/software/preseq_v2.0:$PATH\"\n",
    "export PATH=\"/data/reddylab/software/rsem-1.2.21/:$PATH\"\n",
    "export PATH=\"/data/reddylab/software/phantompeakqualtools-1.2/:$PATH\"\n",
    "export PATH=\"/data/reddylab/software/miniconda2/envs/cwl10/bin:$PATH\"\n",
    "\n",
    "module load bedtools2\n",
    "module load fastqc\n",
    "module load samtools\n",
    "module load bowtie2\n",
    "module load java\n",
    "\n",
    "# For Fastqc\n",
    "export DISPLAY=:0.0\n",
    "\n",
    "# Make sure temporary files and folders are created in a specific folder\n",
    "mkdir -p /data/gersbachlab/bdc35/BDC04_ATACseq_RerunNewPipeline/processing/atac_seq/tmpdirs/tmp-COSGROVE_5109_180815B1-se-blacklist-removal-${SLURM_ARRAY_TASK_ID}-\n",
    "export TMPDIR=\"/data/gersbachlab/bdc35/BDC04_ATACseq_RerunNewPipeline/processing/atac_seq/tmpdirs/tmp-COSGROVE_5109_180815B1-se-blacklist-removal-${SLURM_ARRAY_TASK_ID}-\"\n",
    "\n",
    "cwltool --debug \\\n",
    "    --non-strict \\\n",
    "    --preserve-environment PATH \\\n",
    "    --preserve-environment DISPLAY \\\n",
    "    --preserve-environment TMPDIR \\\n",
    "    --outdir /data/gersbachlab/bdc35/BDC04_ATACseq_RerunNewPipeline/processing/atac_seq/COSGROVE_5109_180815B1-se-blacklist-removal  \\\n",
    "    --no-container \\\n",
    "    /data/reddylab/software/cwl/GGR-cwl/v1.0/ATAC-seq_pipeline/pipeline-se-blacklist-removal.cwl \\\n",
    "    /data/gersbachlab/bdc35/BDC04_ATACseq_RerunNewPipeline/processing/atac_seq/jsons/atac_seq_download_metadata.COSGROVE_5109_180815B1-se-blacklist-removal-${SLURM_ARRAY_TASK_ID}.json"
   ]
  },
  {
   "cell_type": "markdown",
   "metadata": {},
   "source": [
    "Execute SLURM array master file"
   ]
  },
  {
   "cell_type": "code",
   "execution_count": 5,
   "metadata": {},
   "outputs": [],
   "source": [
    "%%script --out blocking_job_str bash -s \"$blocking_job\"\n",
    "source /data/reddylab/software/miniconda2/bin/activate cwl10\n",
    "sbatch -p new,all \\\n",
    " --depend afterok:$1 \\\n",
    " --array 0-11%20 \\\n",
    " /data/gersbachlab/bdc35/BDC04_ATACseq_RerunNewPipeline/processing/atac_seq/scripts/COSGROVE_5109_180815B1-se-blacklist-removal.sh"
   ]
  },
  {
   "cell_type": "markdown",
   "metadata": {},
   "source": [
    "Extract blocking job id"
   ]
  },
  {
   "cell_type": "code",
   "execution_count": 6,
   "metadata": {},
   "outputs": [],
   "source": [
    "import re\n",
    "blocking_job = re.match('Submitted batch job (\\d+).*', blocking_job_str).group(1)"
   ]
  },
  {
   "cell_type": "markdown",
   "metadata": {},
   "source": [
    "#### Create QC generating script"
   ]
  },
  {
   "cell_type": "code",
   "execution_count": 7,
   "metadata": {},
   "outputs": [
    {
     "name": "stdout",
     "output_type": "stream",
     "text": [
      "Overwriting /data/gersbachlab/bdc35/BDC04_ATACseq_RerunNewPipeline/processing/atac_seq/scripts/generate_qc_cell_COSGROVE_5109_180815B1-se-blacklist-removal.sh\n"
     ]
    }
   ],
   "source": [
    "%%writefile /data/gersbachlab/bdc35/BDC04_ATACseq_RerunNewPipeline/processing/atac_seq/scripts/generate_qc_cell_COSGROVE_5109_180815B1-se-blacklist-removal.sh\n",
    "#!/bin/bash\n",
    "#SBATCH --job-name=qc\n",
    "#SBATCH --output=/data/gersbachlab/bdc35/BDC04_ATACseq_RerunNewPipeline/processing/atac_seq/logs/qc_gen.COSGROVE_5109_180815B1-se-blacklist-removal.out\n",
    "\n",
    "source /data/reddylab/software/miniconda2/bin/activate alex\n",
    "cd /data/gersbachlab/bdc35/BDC04_ATACseq_RerunNewPipeline/processing/atac_seq/COSGROVE_5109_180815B1-se-blacklist-removal\n",
    "\n",
    "python /data/reddylab/software/cwl/bin/generate_stats_atacseq_single_end.py ./ \\\n",
    "    -samples $(/bin/ls -1 *PBC.txt | sed 's@.PBC.txt@@') \\\n",
    "> qc.txt"
   ]
  },
  {
   "cell_type": "markdown",
   "metadata": {},
   "source": [
    "Generate QCs for COSGROVE_5109_180815B1-se-blacklist-removal"
   ]
  },
  {
   "cell_type": "code",
   "execution_count": 8,
   "metadata": {},
   "outputs": [],
   "source": [
    "%%script --out blocking_job_str bash -s \"$blocking_job\"\n",
    "sbatch -p new,all \\\n",
    " --depend afterok:$1 \\\n",
    " /data/gersbachlab/bdc35/BDC04_ATACseq_RerunNewPipeline/processing/atac_seq/scripts/generate_qc_cell_COSGROVE_5109_180815B1-se-blacklist-removal.sh"
   ]
  },
  {
   "cell_type": "markdown",
   "metadata": {},
   "source": [
    "Extract blocking job id"
   ]
  },
  {
   "cell_type": "code",
   "execution_count": 9,
   "metadata": {},
   "outputs": [],
   "source": [
    "import re\n",
    "blocking_job = re.match('Submitted batch job (\\d+).*', blocking_job_str).group(1)"
   ]
  },
  {
   "cell_type": "code",
   "execution_count": null,
   "metadata": {},
   "outputs": [],
   "source": []
  }
 ],
 "metadata": {
  "kernelspec": {
   "display_name": "Python 3",
   "language": "python",
   "name": "python3"
  },
  "language_info": {
   "codemirror_mode": {
    "name": "ipython",
    "version": 3
   },
   "file_extension": ".py",
   "mimetype": "text/x-python",
   "name": "python",
   "nbconvert_exporter": "python",
   "pygments_lexer": "ipython3",
   "version": "3.6.7"
  }
 },
 "nbformat": 4,
 "nbformat_minor": 1
}
