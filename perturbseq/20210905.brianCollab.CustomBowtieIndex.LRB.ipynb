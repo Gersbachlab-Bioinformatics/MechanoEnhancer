{
 "cells": [
  {
   "cell_type": "markdown",
   "metadata": {},
   "source": [
    "# Generate custom bowtie index from grna library for 10X analysis"
   ]
  },
  {
   "cell_type": "markdown",
   "metadata": {},
   "source": [
    "### Library information:\n",
    "\n",
    "- Num grnas = 1005\n",
    "- Targeting = 905 (includes positive enhancer and promoter controls)\n",
    "- NT = 100"
   ]
  },
  {
   "cell_type": "markdown",
   "metadata": {},
   "source": [
    "### Make fasta file "
   ]
  },
  {
   "cell_type": "code",
   "execution_count": 11,
   "metadata": {},
   "outputs": [],
   "source": [
    "%%bash\n",
    "mkdir -p /data/gersbachlab/lrb53/brianCollab/data/bowtieindex"
   ]
  },
  {
   "cell_type": "code",
   "execution_count": 12,
   "metadata": {},
   "outputs": [],
   "source": [
    "%%bash\n",
    "\n",
    "awk -F , '{print \">\"$1\"_\"$2\"_\"$3\"_\"$4\"\\n\"$5}' /data/gersbachlab/lrb53/brianCollab/data/grna_info/scMigLibSecondary_headers.csv | \\\n",
    "awk 'NR>2' \\\n",
    "> /data/gersbachlab/lrb53/brianCollab/data/bowtieindex/scMigLibSecondary.fasta"
   ]
  },
  {
   "cell_type": "code",
   "execution_count": 13,
   "metadata": {},
   "outputs": [
    {
     "name": "stdout",
     "output_type": "stream",
     "text": [
      ">gRNA_109__22_chr2_37711239_37711261\n",
      "CCACAACAACTTCTCTCTGG\n",
      ">gRNA_109__30_chr2_37711442_37711464\n",
      "TTGGGATTTGATGGGAGCTC\n",
      ">gRNA_109__31_chr2_37711506_37711528\n",
      "CATTGCAAGTGGTGGATTGC\n",
      ">gRNA_109__37_chr2_37711419_37711441\n",
      "GTCATCTCAAAAGGAGGTGC\n",
      ">gRNA_109__40_chr2_37711704_37711726\n",
      "GCTCTTTAAATCTATTACTC\n",
      "2010 /data/gersbachlab/lrb53/brianCollab/data/bowtieindex/scMigLibSecondary.fasta\n"
     ]
    }
   ],
   "source": [
    "%%bash\n",
    "\n",
    "head /data/gersbachlab/lrb53/brianCollab/data/bowtieindex/scMigLibSecondary.fasta\n",
    "wc -l /data/gersbachlab/lrb53/brianCollab/data/bowtieindex/scMigLibSecondary.fasta \n",
    "# should have 2x as many lines as sgRNAs --> 1005*2 = 2010"
   ]
  },
  {
   "cell_type": "markdown",
   "metadata": {},
   "source": [
    "### Use bowtie2 to create custom sgRNA index"
   ]
  },
  {
   "cell_type": "code",
   "execution_count": 14,
   "metadata": {},
   "outputs": [
    {
     "name": "stdout",
     "output_type": "stream",
     "text": [
      "Submitted batch job 25997128\n"
     ]
    }
   ],
   "source": [
    "%%bash\n",
    "module load bowtie2\n",
    "\n",
    "sbatch \\\n",
    "    --job-name=IndexgRNA \\\n",
    "    -o /data/gersbachlab/lrb53/brianCollab/logs/scMigLibSecondary_grnas.bt2_index.out \\\n",
    "    -p all \\\n",
    "    --mem 32G \\\n",
    "    --cpus-per-task 8 \\\n",
    "    <<'EOF'\n",
    "#!/bin/bash\n",
    "\n",
    "bowtie2-build \\\n",
    "    --threads 8 \\\n",
    "    --seed 17 \\\n",
    "    /data/gersbachlab/lrb53/brianCollab/data/bowtieindex/scMigLibSecondary.fasta \\\n",
    "    /data/gersbachlab/lrb53/brianCollab/data/bowtieindex/scMigLibSecondary.bt2_ix\n",
    "\n",
    "EOF"
   ]
  },
  {
   "cell_type": "code",
   "execution_count": null,
   "metadata": {},
   "outputs": [],
   "source": []
  }
 ],
 "metadata": {
  "kernelspec": {
   "display_name": "Python 3",
   "language": "python",
   "name": "python3"
  },
  "language_info": {
   "codemirror_mode": {
    "name": "ipython",
    "version": 3
   },
   "file_extension": ".py",
   "mimetype": "text/x-python",
   "name": "python",
   "nbconvert_exporter": "python",
   "pygments_lexer": "ipython3",
   "version": "3.6.7"
  }
 },
 "nbformat": 4,
 "nbformat_minor": 5
}
